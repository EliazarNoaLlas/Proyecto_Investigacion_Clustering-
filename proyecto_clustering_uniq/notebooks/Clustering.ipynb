{
 "cells": [
  {
   "cell_type": "code",
   "execution_count": null,
   "metadata": {},
   "outputs": [],
   "source": [
    "# Importar la librería pandas para manejo de datos\n",
    "import pandas as pd\n",
    "import plotly.graph_objs as go\n",
    "import plotly.offline as py\n",
    "import seaborn as sns\n",
    "import numpy as np"
   ]
  },
  {
   "cell_type": "code",
   "execution_count": null,
   "metadata": {},
   "outputs": [],
   "source": [
    "# Ruta al archivo CSV en tu Google Drive\n",
    "csv_file_path = \"../data/LISTA_DE_POSTULANTES_1.csv\"\n",
    "\n",
    "# Leer el archivo CSV en un DataFrame, especificando la codificación\n",
    "Postulantes = pd.read_csv(csv_file_path, encoding=\"latin1\", delimiter=\";\")\n",
    "\n",
    "# Mostrar los primeros registros del DataFrame\n",
    "Postulantes.head()"
   ]
  }
 ],
 "metadata": {
  "kernelspec": {
   "display_name": "base",
   "language": "python",
   "name": "python3"
  },
  "language_info": {
   "name": "python",
   "version": "3.11.5"
  }
 },
 "nbformat": 4,
 "nbformat_minor": 2
}
