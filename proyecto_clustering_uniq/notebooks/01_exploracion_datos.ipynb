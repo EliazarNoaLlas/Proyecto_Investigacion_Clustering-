{
 "cells": [
  {
   "cell_type": "markdown",
   "metadata": {},
   "source": [
    "<div align=\"center\" style=\"border: 2px solid #E57373; border-radius: 10px; padding: 20px; background-color: #FFCDD2;\">\n",
    "    <h1 style=\"font-size: 28px; color: #D32F2F;\">Clustering mediante Algoritmos de Embedding de Grafos para el Análisis de Postulantes en el Proceso de Admisión de UNIQ</h1>\n",
    "    <p style=\"font-size: 18px; color: #EF6C00;\">Explorando Perfiles y Tendencias a través de Datos Transformados</p>\n",
    "    <img src=\"../images/logo.png\" alt=\"Imagen de ejemplo\" style=\"border-radius: 5px; box-shadow: 5px 5px 10px rgba(0, 0, 0, 0.2); max-width: 80%; margin-top: 20px;\">\n",
    "</div>\n"
   ]
  },
  {
   "cell_type": "markdown",
   "metadata": {},
   "source": [
    "# <a id=\"1\"><font size=\"6\"><div style=\"border-radius:5px;color:white;background-color:#FA8072;\">  1. Introducción 🚀</div> </font></a>\n"
   ]
  },
  {
   "cell_type": "markdown",
   "metadata": {
    "tags": []
   },
   "source": [
    "<div style=\"background-color: #dbcfce; padding: 10px; border-radius: 5px; box-shadow: 2px 2px 5px rgba(0, 0, 0, 0.1);\">\n",
    "    <p style=\"font-size: 16px; line-height: 1.5;color: #000;\">\n",
    "        En la última década, los gráficos de conocimiento (KG) han surgido como una área destacada en la IA. Un KG es esencialmente un gráfico multirelacional, etiquetado y dirigido, con semántica. El aumento en la publicación de datos estructurados en la web y el éxito de proyectos como Google Knowledge Graph y Amazon Product Graph han impulsado esta tendencia. Además, la naturaleza interdisciplinaria de la investigación académica ha sido clave. En este contexto, esta revisión panorámica de la investigación de KG busca sintetizar las diferentes líneas de investigación, resaltando cómo se unen en comunidades como el procesamiento del lenguaje natural, bases de datos y la web semántica.\n",
    "    </p>\n",
    "</div>\n"
   ]
  },
  {
   "cell_type": "markdown",
   "metadata": {},
   "source": [
    "## <font size=\"6\"><div style=\"border-radius:10px;border: 2px solid #DEB887;color:white;padding: 20px;background-color:#22938d;\"> 🎯 Objetivo del Proyecto</div> </font>\n"
   ]
  },
  {
   "cell_type": "markdown",
   "metadata": {},
   "source": [
    "<div style=\"background-color: #dbcfce; padding: 10px; border-radius: 5px; box-shadow: 2px 2px 5px rgba(0, 0, 0, 0.1);\">\n",
    "    <p style=\"font-size: 16px; line-height: 1.5;color: #000;\">\n",
    "        El objetivo principal de este proyecto es aplicar técnicas de análisis de datos avanzadas para realizar un estudio exhaustivo de los postulantes en el proceso de admisión de la UNIQ. Se busca implementar algoritmos de clustering para agrupar a los postulantes en categorías que permitan identificar perfiles y tendencias comunes. Además, se empleará el concepto de embedding para transformar los datos en una representación más compacta y significativa, lo que facilitará la detección de similitudes y diferencias entre los estudiantes.\n",
    "    </p>\n",
    "</div>\n"
   ]
  },
  {
   "cell_type": "markdown",
   "metadata": {},
   "source": [
    "## <font size=\"6\"><div style=\"border-radius:10px;border: 2px solid #DEB887;color:white;padding: 20px;background-color:#22938d;\"> 🎯 Contexto y Motivacion</div> </font>\n"
   ]
  },
  {
   "cell_type": "markdown",
   "metadata": {},
   "source": [
    "<div style=\"border: 2px solid #3498DB; border-radius: 10px; padding: 20px; background-color: #E6F7FF;color: black\">\n",
    "    <h2 style=\"color: #2980B9;\">🔍 Enfoque del Proyecto</h2>\n",
    "    <p>\n",
    "        El presente proyecto de investigación tiene su atención centrada en el análisis de la \"Lista de Postulantes del Proceso de Admisión 2019 al 2023 de la Universidad Nacional Intercultural de Quillabamba\" (UNIQ). El objetivo fundamental es desvelar patrones y relaciones ocultas entre los datos de los postulantes a través de técnicas especializadas como clustering, embedding y el algoritmo de la araña.\n",
    "    </p>\n",
    "    <hr style=\"border: 1px solid #3498DB; margin: 15px 0;\">\n",
    "    <p>\n",
    "        Se pretende implementar algoritmos de clustering para agrupar a los postulantes en categorías que permitan identificar perfiles y tendencias comunes. Adicionalmente, se empleará el concepto de embedding para transformar los datos en una representación más compacta y significativa, facilitando así la identificación de similitudes y diferencias entre los estudiantes.\n",
    "    </p>\n",
    "    <hr style=\"border: 1px solid #3498DB; margin: 15px 0;\">\n",
    "    <p>\n",
    "        Dada la diversidad de variables presentes en los datos, que abarcan desde información geográfica y demográfica hasta aspectos académicos y lingüísticos, es crucial optimizar los procesos de selección y agrupación de los estudiantes. Esta optimización podría permitir la identificación de segmentos de estudiantes con características similares. Estos segmentos podrían ofrecer información valiosa para mejorar políticas de admisión, personalizar la experiencia educativa y diseñar estrategias de apoyo estudiantil.\n",
    "    </p>\n",
    "</div>\n"
   ]
  },
  {
   "cell_type": "markdown",
   "metadata": {},
   "source": [
    "## <font size=\"6\"><div style=\"border-radius:10px;border: 2px solid #DEB887;color:white;padding: 20px;background-color:#22938d;\"> 🎯 Descripción general de los datos y la problemática\n",
    "\n",
    "</div> </font>\n"
   ]
  },
  {
   "cell_type": "markdown",
   "metadata": {},
   "source": [
    "<div style=\"border: 2px solid #3498DB; border-radius: 10px; padding: 20px; background-color: #E6F7FF;color: black;\">\n",
    "    <h2 style=\"color: #2980B9;\">📊 Conjunto de Datos: Lista de Postulantes del Proceso de Admisión 2019 al 2023</h2>\n",
    "    <p>\n",
    "        El conjunto de datos <em>\"Lista de Postulantes del Proceso de Admisión 2019 al 2023 de la Universidad Nacional Intercultural de Quillabamba\"</em> es proporcionado por la Universidad Nacional Intercultural de Quillabamba. Contiene información detallada sobre los individuos que participaron en el proceso de admisión de la universidad durante los años 2019 al 2023.\n",
    "    </p>\n",
    "    <p>\n",
    "        Este conjunto de datos cubre un período de cinco años y ofrece una amplia variedad de atributos que describen diferentes aspectos de los postulantes.\n",
    "    </p>\n",
    "    <hr style=\"border: 1px solid #3498DB; margin: 15px 0;\">\n",
    "    <p>\n",
    "        La información se presenta en formato tabular, donde cada fila representa un postulante individual, y las columnas contienen datos relacionados con varios aspectos de la postulación y el \n",
    "        perfil del estudiante. Los atributos incluyen categorías como:\n",
    "    </p>\n",
    "    <ul>\n",
    "        <li>Información geográfica (ubicación de nacimiento y residencia)</li>\n",
    "        <li>Detalles académicos (escuela de postulación, modalidad, año y lugar de culminación de estudios)</li>\n",
    "        <li>Características personales (edad, sexo)</li>\n",
    "        <li>Habilidades lingüísticas (segunda lengua, lectura, escritura, habla)</li>\n",
    "        <li>Información financiera (pago de admisión)</li>\n",
    "        <li>Detalles sobre discapacidad</li>\n",
    "        <li>Pertenencia a comunidades específicas</li>\n",
    "    </ul>\n",
    "    <p>\n",
    "        Los datos están diseñados para ser anónimos, utilizando identificadores únicos (UUID) en lugar de información personal identificable. Esto garantiza la privacidad de los postulantes al permitir un análisis en profundidad de las tendencias y características compartidas por los diferentes grupos de postulantes.\n",
    "    </p>\n",
    "</div>\n"
   ]
  },
  {
   "cell_type": "markdown",
   "metadata": {},
   "source": [
    "# <a id=\"1\"><font size=\"6\"><div style=\"border-radius:5px;color:white;background-color:#FA8072;\">  2. Comprensión del Negocio y de los terminos 📃</div> </font></a>\n",
    "<a id=\"1\"><font size=\"6\">\n",
    "\n"
   ]
  },
  {
   "cell_type": "markdown",
   "metadata": {},
   "source": [
    "<div style=\"border-radius:10px; border:#DEB887 solid; padding: 15px; background-color: #FFFAF0; font-size:100%; text-align:left;color: black\">\n",
    "<h3 align=\"left\"><font color='#DEB887'>🌐 Introducción a la Detección de Comunidades:</font></h3>\n",
    "<ul>\n",
    "    <li><b>🤔 ¿Qué es la Detección de Comunidades?</b></li> \n",
    "    <ul>\n",
    "        <li>La detección de comunidades es una técnica utilizada para identificar grupos o clústeres de nodos en una red que están más estrechamente conectados entre sí que con el resto de la red. Estas comunidades a menudo reflejan propiedades o funcionalidades compartidas.</li>\n",
    "    </ul>\n",
    "</ul>\n",
    "<p>La detección de comunidades es fundamental en la ciencia de redes, ya que desentraña las agrupaciones intrínsecas dentro de redes complejas. Diferentes algoritmos y técnicas se adaptan a diversas estructuras de red y objetivos de detección, lo que hace crucial elegir un enfoque alineado con los datos y los objetivos generales.</p>\n",
    "<div align=\"center\" style=\"border: 2px solid #E57373; border-radius: 10px; padding: 20px; background-color: #FFCDD2;\">\n",
    "    <a href=\"https://stackoverflow.com/questions/23702543/d3-js-how-to-draw-a-force-directed-graph-with-nodes-grouped-by-circles\" target=\"_blank\">\n",
    "        <img src=\"../images/l3RQc.png\" alt=\"Red de Nodos\" style=\"border-radius: 5px; max-width: 80%; box-shadow: 5px 5px 10px rgba(0, 0, 0, 0.2);\">\n",
    "    </a>\n",
    "    <p style=\"font-size: 16px; color: #0a0a0a; margin-top: 10px;\">\n",
    "        <em> <strong>Deteccion de Comunidades</strong>: en la imagen se observa colores diferentes en \n",
    "        <br>\n",
    "        los nodos para indicar la comunidad diferente a la que pertenecen</em>\n",
    "    </p>\n",
    "</div>\n",
    "</div>\n"
   ]
  },
  {
   "cell_type": "markdown",
   "metadata": {},
   "source": [
    "<div style=\"border: 2px solid #2196F3; border-radius: 10px; padding: 20px; background-color: #E3F2FD;color: black\">\n",
    "<h3 style=\"color: #2196F3;\">🧠 Definición de Grafo de Conocimiento</h3>\n",
    "<p>Un <span style=\"color: #FF5722; font-weight: bold;\">grafo de conocimiento</span> (KG) es un marco fundamental para representar entidades y las relaciones que las conectan. Los KG ofrecen una abstracción concisa e intuitiva para diversos dominios, donde los bordes capturan relaciones semánticas entre las entidades.</p>\n",
    "<p>En términos matemáticos, un grafo de conocimiento se define como:</p>\n",
    "<p align=\"center\"><img src=\"https://latex.codecogs.com/svg.image?\\dpi{120}&space;\\large&space;KG&space;=&space;\\{E,&space;R,&space;F\\}\" title=\"\\large KG = \\{E, R, F\\}\" /></p>\n",
    "<ul>\n",
    "  <li><strong>Entidades</strong> (<em>E</em>): Un conjunto de entidades presentes en el grafo.</li>\n",
    "  <li><strong>Relaciones</strong> (<em>R</em>): Un conjunto de relaciones entre las entidades.</li>\n",
    "  <li><strong>Hechos</strong> (<em>F</em>): Una colección de tripletas que denotan los enlaces entre las entidades a través de las relaciones.</li>\n",
    "</ul>\n",
    "<p>Un hecho se representa como una tripleta (<em>h, r, t</em>), donde <em>h</em> es la entidad principal (sujeto), <em>r</em> es la relación (predicado) y <em>t</em> es la entidad final (objeto).</p>\n",
    "<p>Los KG son esenciales para la representación estructurada del conocimiento en una variedad de dominios y permiten inferir nuevos conocimientos a partir de los hechos presentes en el grafo.</p>\n",
    "<div align=\"center\" style=\"border: 2px solid #E57373; border-radius: 10px; padding: 20px; background-color: #E3F2FD;\">\n",
    "    <a href=\"[about:blank](https://www.analyticsvidhya.com/blog/2018/04/introduction-to-graph-theory-network-analysis-python-codes/)\" target=\"_blank\">\n",
    "        <img src=\"../images/GNpython2.jpg\" alt=\"Red de Nodos\" style=\"border-radius: 5px; max-width: 80%; box-shadow: 5px 5px 10px rgba(0, 0, 0, 0.2);\">\n",
    "    </a>\n",
    "    <p style=\"font-size: 16px; color: #0a0a0a; margin-top: 10px;\">\n",
    "        <em> <strong>GC</strong>: Una imagen vale mas que mil palabras  \n",
    "        <br>\n",
    "        los nodos para indicar los postulantes y las aristas las relaciones entre ellos</em>\n",
    "    </p>\n",
    "</div>\n",
    "</div>\n",
    "\n",
    "https://en.wikipedia.org/wiki/Knowledge_graph_embedding\n",
    "\n",
    "https://www.mdpi.com/2078-2489/13/4/161\n"
   ]
  },
  {
   "cell_type": "markdown",
   "metadata": {},
   "source": [
    "<div style=\"border: 2px solid #4CAF50; border-radius: 10px; padding: 20px; background-color: #E8F5E9;color: black\">\n",
    "<h3 style=\"color: #4CAF50;\">🌐 Embedding para Datos de Gráficos</h3>\n",
    "<p>El <span style=\"color: #E91E63; font-weight: bold;\">embedding</span> es una técnica que permite representar entidades y relaciones en un grafo en un espacio vectorial de baja dimensión. \n",
    "En el contexto de datos de gráficos, el embedding captura las características semánticas y topológicas de los nodos y las relaciones en el grafo, transformándolos en vectores numéricos.</p>\n",
    "<p>Estos vectores permiten una manipulación y análisis más eficiente de los datos, facilitando tareas como la detección de similitudes, el clustering y la visualización.</p>\n",
    "</div>\n",
    "<div align=\"center\" style=\"border: 2px solid #E57373; border-radius: 10px; padding: 20px; background-color: #E3F2FD;\">\n",
    "    <a href=\"[about:blank](https://www.analyticsvidhya.com/blog/2018/04/introduction-to-graph-theory-network-analysis-python-codes/)\" target=\"_blank\">\n",
    "        <img src=\"../images/Embedding.webp\" alt=\"Red de Nodos\" style=\"border-radius: 5px; max-width: 80%; box-shadow: 5px 5px 10px rgba(0, 0, 0, 0.2);\">\n",
    "    </a>\n",
    "    <p style=\"font-size: 16px; color: #0a0a0a; margin-top: 10px;\">\n",
    "        <em> <strong>Embedding</strong>:\n",
    "        Proceso de Incrustacion de Node2Vect</em>\n",
    "    </p>\n",
    "</div>\n",
    "<div style=\"border: 2px solid #FF9800; border-radius: 10px; padding: 20px; background-color: #FFF3E0;color: black\">\n",
    "<h3 style=\"color: #FF9800;\">📊 Node2Vec: Técnica de Embedding</h3>\n",
    "<p><span style=\"color: #673AB7; font-weight: bold;\">Node2Vec</span> es una técnica popular de embedding para grafos que permite generar representaciones vectoriales de nodos basadas en su estructura local en el grafo. Utiliza el concepto de \"random walk\" para capturar la proximidad semántica y topológica de los nodos.</p>\n",
    "<p>Node2Vec utiliza un parámetro de control para ajustar el equilibrio entre explorar áreas distantes y explotar conexiones cercanas en el grafo. Los resultados son vectores numéricos que capturan la similitud y relación entre nodos en un espacio dimensional reducido.</p>\n",
    "</div>\n",
    "<div align=\"center\" style=\"border: 2px solid #E57373; border-radius: 10px; padding: 20px; background-color: #E3F2FD;\">\n",
    "    <a href=\"[about:blank](https://www.analyticsvidhya.com/blog/2018/04/introduction-to-graph-theory-network-analysis-python-codes/)\" target=\"_blank\">\n",
    "        <img src=\"../images/wor2vect.webp\" alt=\"Red de Nodos\" style=\"border-radius: 5px; max-width: 80%; box-shadow: 5px 5px 10px rgba(0, 0, 0, 0.2);\">\n",
    "    </a>\n",
    "    <p style=\"font-size: 16px; color: #0a0a0a; margin-top: 10px;\">\n",
    "        <em> <strong>Nod2Vect</strong>:\n",
    "        Defincion matematica de Nod2Vect</em>\n",
    "    </p>\n",
    "</div>\n",
    "<div style=\"border: 2px solid #2196F3; border-radius: 10px; padding: 20px; background-color: #E3F2FD;color: black\">\n",
    "<h3 style=\"color: #2196F3;\">🔗 NetworkX en Python</h3>\n",
    "<p><span style=\"color: #FF5722; font-weight: bold;\">NetworkX</span> es una biblioteca de Python utilizada para la creación, manipulación y análisis de estructuras de grafos. Proporciona una amplia gama de funciones para crear, visualizar y analizar grafos, así como para realizar cálculos y aplicar algoritmos de grafos.</p>\n",
    "<p>NetworkX es útil para procesar y preparar datos de grafos antes de aplicar técnicas como embedding. Permite cargar, modificar y explorar la estructura y atributos de los grafos, lo que es esencial para el proceso de embedding.</p>\n",
    "</div>\n",
    "\n",
    "<div style=\"border: 2px solid #FFC107; border-radius: 10px; padding: 20px; background-color: #FFF9C4;color: black\">\n",
    "<h3 style=\"color: #FFC107;\">🚀 Proceso de Incrustación de Datos</h3>\n",
    "<p>El proceso de <span style=\"color: #009688; font-weight: bold;\">incrustación de datos</span> implica la transformación de los nodos y relaciones de un grafo en vectores numéricos de baja dimensión. Para llevar a cabo la incrustación de los postulantes en el proceso de admisión de la UNIQ, se seguirán los siguientes pasos:</p>\n",
    "<ol>\n",
    "  <li>Preparación de Datos: Cargar los datos de los postulantes y construir un grafo representando las relaciones entre ellos.</li>\n",
    "  <li>Aplicación de Node2Vec: Utilizar Node2Vec para generar los vectores de embedding para cada postulante en el grafo. Ajustar los parámetros de exploración y explotación según sea necesario.</li>\n",
    "  <li>Exploración y Análisis: Explorar las representaciones de embedding para identificar similitudes y diferencias entre los postulantes. Esto puede involucrar técnicas de clustering y visualización.</li>\n",
    "  <li>Aplicación de Resultados: Utilizar los vectores de embedding en análisis posteriores, como clustering de postulantes, detección de tendencias y patrones, y toma de decisiones informadas en el proceso de admisión.</li>\n",
    "</ol>\n",
    "\n",
    "</div>\n"
   ]
  },
  {
   "cell_type": "markdown",
   "metadata": {},
   "source": [
    "# <a id=\"1\"><font size=\"6\"><div style=\"border-radius:5px;color:white;background-color:#FA8072;\"> 3. Comprensión de los datos 📚</div> </font></a>\n"
   ]
  },
  {
   "cell_type": "markdown",
   "metadata": {},
   "source": [
    "Descripción del Conjunto de Datos: Tienes una descripción detallada de la información contenida en el conjunto de datos. Esto incluye información sobre los postulantes al proceso de admisión en la Universidad Nacional Intercultural de Quillabamba (UNIQ) en los años 2019 al 2023. También se mencionan las carreras profesionales, modalidades de postulación y otros detalles relevantes.\n"
   ]
  },
  {
   "cell_type": "markdown",
   "metadata": {},
   "source": [
    "## <a><font size=\"6\"><div style=\"border-radius:5px;color:#2F4F4F;background-color:#BFBF00;\"> 🏋️‍♀️ 3.1 Librerias</div></font></a>\n"
   ]
  },
  {
   "cell_type": "markdown",
   "metadata": {},
   "source": [
    "A continuacion se importan las librerias para analizar el conjutno de datos\n"
   ]
  },
  {
   "cell_type": "code",
   "execution_count": 92,
   "metadata": {},
   "outputs": [],
   "source": [
    "# Importar la librería pandas para manejo de datos\n",
    "import pandas as pd\n",
    "import plotly.graph_objs as go\n",
    "import plotly.offline as py\n",
    "import seaborn as sns\n",
    "import numpy as np"
   ]
  },
  {
   "cell_type": "markdown",
   "metadata": {},
   "source": [
    "## <a><font size=\"6\"><div style=\"border-radius:5px;color:#2F4F4F;background-color:#BFBF00;\"> 🏋️‍♀️ 3.2 Lectura del conjunto de datos</div></font></a>\n"
   ]
  },
  {
   "cell_type": "code",
   "execution_count": 93,
   "metadata": {},
   "outputs": [
    {
     "data": {
      "text/html": [
       "<div>\n",
       "<style scoped>\n",
       "    .dataframe tbody tr th:only-of-type {\n",
       "        vertical-align: middle;\n",
       "    }\n",
       "\n",
       "    .dataframe tbody tr th {\n",
       "        vertical-align: top;\n",
       "    }\n",
       "\n",
       "    .dataframe thead th {\n",
       "        text-align: right;\n",
       "    }\n",
       "</style>\n",
       "<table border=\"1\" class=\"dataframe\">\n",
       "  <thead>\n",
       "    <tr style=\"text-align: right;\">\n",
       "      <th></th>\n",
       "      <th>FECHA_CORTE</th>\n",
       "      <th>UUID</th>\n",
       "      <th>ESCUELA</th>\n",
       "      <th>MODALIDAD</th>\n",
       "      <th>ANNIO_POSTULACION</th>\n",
       "      <th>UBIGEO</th>\n",
       "      <th>DEPARTAMENTO</th>\n",
       "      <th>PROVINCIA</th>\n",
       "      <th>DISTRITO</th>\n",
       "      <th>UBIGEO_ORIGEN</th>\n",
       "      <th>...</th>\n",
       "      <th>EDAD</th>\n",
       "      <th>SEXO</th>\n",
       "      <th>PAGO</th>\n",
       "      <th>IDIOMA</th>\n",
       "      <th>LEE</th>\n",
       "      <th>ESCRIBE</th>\n",
       "      <th>HABLA</th>\n",
       "      <th>TIENE_DISCAPACIDAD</th>\n",
       "      <th>TIPO_COMUNIDAD</th>\n",
       "      <th>COMUNIDAD</th>\n",
       "    </tr>\n",
       "  </thead>\n",
       "  <tbody>\n",
       "    <tr>\n",
       "      <th>0</th>\n",
       "      <td>20230626</td>\n",
       "      <td>eb35ae9c84a9e239398331595b9f5489d23e686ca3f699...</td>\n",
       "      <td>INGENIERÍA CIVIL</td>\n",
       "      <td>PRIMERA OPORTUNIDAD PARA ESTUDIANTES DEL QUINT...</td>\n",
       "      <td>2020</td>\n",
       "      <td>80901</td>\n",
       "      <td>CUSCO</td>\n",
       "      <td>LA CONVENCIÓN</td>\n",
       "      <td>SANTA ANA</td>\n",
       "      <td>80901</td>\n",
       "      <td>...</td>\n",
       "      <td>20</td>\n",
       "      <td>MASCULINO</td>\n",
       "      <td>250</td>\n",
       "      <td>Español</td>\n",
       "      <td>SI</td>\n",
       "      <td>NO</td>\n",
       "      <td>NO</td>\n",
       "      <td>NO</td>\n",
       "      <td>NINGUNA</td>\n",
       "      <td>NINGUNA</td>\n",
       "    </tr>\n",
       "    <tr>\n",
       "      <th>1</th>\n",
       "      <td>20230626</td>\n",
       "      <td>37aa167373b8ddd18910267b616ff845eef0517201f7da...</td>\n",
       "      <td>ECOTURISMO</td>\n",
       "      <td>PRIMERA OPORTUNIDAD PARA ESTUDIANTES DEL QUINT...</td>\n",
       "      <td>2020</td>\n",
       "      <td>80901</td>\n",
       "      <td>CUSCO</td>\n",
       "      <td>LA CONVENCIÓN</td>\n",
       "      <td>SANTA ANA</td>\n",
       "      <td>80901</td>\n",
       "      <td>...</td>\n",
       "      <td>20</td>\n",
       "      <td>MASCULINO</td>\n",
       "      <td>250</td>\n",
       "      <td>Español</td>\n",
       "      <td>SI</td>\n",
       "      <td>NO</td>\n",
       "      <td>NO</td>\n",
       "      <td>NO</td>\n",
       "      <td>NINGUNA</td>\n",
       "      <td>NINGUNA</td>\n",
       "    </tr>\n",
       "    <tr>\n",
       "      <th>2</th>\n",
       "      <td>20230626</td>\n",
       "      <td>41b4b33d0e004fc7dc6018664697814b2bfd87d93dafd9...</td>\n",
       "      <td>INGENIERÍA CIVIL</td>\n",
       "      <td>PRIMERA OPORTUNIDAD PARA ESTUDIANTES DEL QUINT...</td>\n",
       "      <td>2020</td>\n",
       "      <td>80901</td>\n",
       "      <td>CUSCO</td>\n",
       "      <td>LA CONVENCIÓN</td>\n",
       "      <td>SANTA ANA</td>\n",
       "      <td>80901</td>\n",
       "      <td>...</td>\n",
       "      <td>19</td>\n",
       "      <td>MASCULINO</td>\n",
       "      <td>250</td>\n",
       "      <td>Español</td>\n",
       "      <td>SI</td>\n",
       "      <td>NO</td>\n",
       "      <td>NO</td>\n",
       "      <td>NO</td>\n",
       "      <td>NINGUNA</td>\n",
       "      <td>NINGUNA</td>\n",
       "    </tr>\n",
       "    <tr>\n",
       "      <th>3</th>\n",
       "      <td>20230626</td>\n",
       "      <td>60d7c1c310363c4b2bf1437aba8ba8df2a6f66cae4e25c...</td>\n",
       "      <td>INGENIERÍA AGRONÓMICA TROPICAL</td>\n",
       "      <td>PRIMERA OPORTUNIDAD PARA ESTUDIANTES DEL QUINT...</td>\n",
       "      <td>2020</td>\n",
       "      <td>80901</td>\n",
       "      <td>CUSCO</td>\n",
       "      <td>LA CONVENCIÓN</td>\n",
       "      <td>SANTA ANA</td>\n",
       "      <td>80901</td>\n",
       "      <td>...</td>\n",
       "      <td>20</td>\n",
       "      <td>MASCULINO</td>\n",
       "      <td>250</td>\n",
       "      <td>Español</td>\n",
       "      <td>SI</td>\n",
       "      <td>NO</td>\n",
       "      <td>NO</td>\n",
       "      <td>NO</td>\n",
       "      <td>NINGUNA</td>\n",
       "      <td>NINGUNA</td>\n",
       "    </tr>\n",
       "    <tr>\n",
       "      <th>4</th>\n",
       "      <td>20230626</td>\n",
       "      <td>28a9a7dc2ae0a4c9d17151793585c9cee258418321d11b...</td>\n",
       "      <td>INGENIERÍA DE ALIMENTOS</td>\n",
       "      <td>PRIMERA OPORTUNIDAD PARA ESTUDIANTES DEL QUINT...</td>\n",
       "      <td>2020</td>\n",
       "      <td>80902</td>\n",
       "      <td>CUSCO</td>\n",
       "      <td>LA CONVENCIÓN</td>\n",
       "      <td>ECHARATE</td>\n",
       "      <td>80902</td>\n",
       "      <td>...</td>\n",
       "      <td>20</td>\n",
       "      <td>FEMENINO</td>\n",
       "      <td>200</td>\n",
       "      <td>Español</td>\n",
       "      <td>SI</td>\n",
       "      <td>NO</td>\n",
       "      <td>NO</td>\n",
       "      <td>NO</td>\n",
       "      <td>NINGUNA</td>\n",
       "      <td>NINGUNA</td>\n",
       "    </tr>\n",
       "  </tbody>\n",
       "</table>\n",
       "<p>5 rows × 27 columns</p>\n",
       "</div>"
      ],
      "text/plain": [
       "   FECHA_CORTE                                               UUID  \\\n",
       "0     20230626  eb35ae9c84a9e239398331595b9f5489d23e686ca3f699...   \n",
       "1     20230626  37aa167373b8ddd18910267b616ff845eef0517201f7da...   \n",
       "2     20230626  41b4b33d0e004fc7dc6018664697814b2bfd87d93dafd9...   \n",
       "3     20230626  60d7c1c310363c4b2bf1437aba8ba8df2a6f66cae4e25c...   \n",
       "4     20230626  28a9a7dc2ae0a4c9d17151793585c9cee258418321d11b...   \n",
       "\n",
       "                          ESCUELA  \\\n",
       "0                INGENIERÍA CIVIL   \n",
       "1                      ECOTURISMO   \n",
       "2                INGENIERÍA CIVIL   \n",
       "3  INGENIERÍA AGRONÓMICA TROPICAL   \n",
       "4         INGENIERÍA DE ALIMENTOS   \n",
       "\n",
       "                                           MODALIDAD  ANNIO_POSTULACION  \\\n",
       "0  PRIMERA OPORTUNIDAD PARA ESTUDIANTES DEL QUINT...               2020   \n",
       "1  PRIMERA OPORTUNIDAD PARA ESTUDIANTES DEL QUINT...               2020   \n",
       "2  PRIMERA OPORTUNIDAD PARA ESTUDIANTES DEL QUINT...               2020   \n",
       "3  PRIMERA OPORTUNIDAD PARA ESTUDIANTES DEL QUINT...               2020   \n",
       "4  PRIMERA OPORTUNIDAD PARA ESTUDIANTES DEL QUINT...               2020   \n",
       "\n",
       "   UBIGEO DEPARTAMENTO      PROVINCIA   DISTRITO  UBIGEO_ORIGEN  ... EDAD  \\\n",
       "0   80901        CUSCO  LA CONVENCIÓN  SANTA ANA          80901  ...   20   \n",
       "1   80901        CUSCO  LA CONVENCIÓN  SANTA ANA          80901  ...   20   \n",
       "2   80901        CUSCO  LA CONVENCIÓN  SANTA ANA          80901  ...   19   \n",
       "3   80901        CUSCO  LA CONVENCIÓN  SANTA ANA          80901  ...   20   \n",
       "4   80902        CUSCO  LA CONVENCIÓN   ECHARATE          80902  ...   20   \n",
       "\n",
       "        SEXO PAGO   IDIOMA LEE ESCRIBE HABLA  TIENE_DISCAPACIDAD  \\\n",
       "0  MASCULINO  250  Español  SI      NO    NO                  NO   \n",
       "1  MASCULINO  250  Español  SI      NO    NO                  NO   \n",
       "2  MASCULINO  250  Español  SI      NO    NO                  NO   \n",
       "3  MASCULINO  250  Español  SI      NO    NO                  NO   \n",
       "4   FEMENINO  200  Español  SI      NO    NO                  NO   \n",
       "\n",
       "  TIPO_COMUNIDAD  COMUNIDAD  \n",
       "0        NINGUNA    NINGUNA  \n",
       "1        NINGUNA    NINGUNA  \n",
       "2        NINGUNA    NINGUNA  \n",
       "3        NINGUNA    NINGUNA  \n",
       "4        NINGUNA    NINGUNA  \n",
       "\n",
       "[5 rows x 27 columns]"
      ]
     },
     "execution_count": 93,
     "metadata": {},
     "output_type": "execute_result"
    }
   ],
   "source": [
    "# Ruta al archivo CSV en tu Google Drive\n",
    "csv_file_path = \"../data/LISTA_DE_POSTULANTES_1.csv\"\n",
    "\n",
    "# Leer el archivo CSV en un DataFrame, especificando la codificación\n",
    "Postulantes = pd.read_csv(csv_file_path, encoding=\"latin1\", delimiter=\";\")\n",
    "\n",
    "# Mostrar los primeros registros del DataFrame\n",
    "Postulantes.head()"
   ]
  },
  {
   "cell_type": "markdown",
   "metadata": {},
   "source": [
    "<div style=\"background-color: #f4f4f4; border: 1px solid #ddd; padding: 20px; border-radius: 5px; color: black\">\n",
    "    <h3 style=\"color: #2E86C1;\">Simplificación de la Variable UUID en el Conjunto de Datos</h3>\n",
    "    <p>Como <strong>científico de datos</strong>, se realizó la simplificación de la variable UUID en el conjunto de datos <code>Postulantes</code>. La variable UUID (Identificador Único Universal) se utiliza para identificar registros de manera única en un conjunto de datos. En este caso, se aplicó una transformación que conserva solo los primeros tres y últimos tres caracteres de cada UUID, reduciendo su longitud.</p>\n",
    "    <p><strong>Ventajas:</strong></p>\n",
    "    <ul>\n",
    "        <li>Reducción de la longitud del UUID, facilitando la visualización y manipulación.</li>\n",
    "        <li>Posible mejora en la eficiencia computacional al trabajar con datos extensos.</li>\n",
    "    </ul>\n",
    "    <p><strong>Consideraciones:</strong></p>\n",
    "    <ul>\n",
    "        <li>La simplificación puede llevar a la pérdida de información significativa.</li>\n",
    "        <li>Se recomienda evaluar si la pérdida de información es aceptable y si el UUID simplificado sigue siendo único.</li>\n",
    "    </ul>\n",
    "    <p>La decisión de simplificar el UUID depende del contexto y el propósito del análisis. Se debe considerar si la pérdida de información es adecuada y si el UUID simplificado aún permite identificar registros de manera única.</p>\n",
    "    <p style=\"color: #2E86C1;\"><em>Recomendación:</em> Conservar el UUID original en su forma completa para análisis detallados o para enlaces con otras fuentes.</p>\n",
    "    <p>Para más información, se puede consultar el código y la transformación realizada en el conjunto de datos.</p>\n",
    "</div>\n"
   ]
  },
  {
   "cell_type": "code",
   "execution_count": 94,
   "metadata": {},
   "outputs": [
    {
     "data": {
      "text/html": [
       "<div>\n",
       "<style scoped>\n",
       "    .dataframe tbody tr th:only-of-type {\n",
       "        vertical-align: middle;\n",
       "    }\n",
       "\n",
       "    .dataframe tbody tr th {\n",
       "        vertical-align: top;\n",
       "    }\n",
       "\n",
       "    .dataframe thead th {\n",
       "        text-align: right;\n",
       "    }\n",
       "</style>\n",
       "<table border=\"1\" class=\"dataframe\">\n",
       "  <thead>\n",
       "    <tr style=\"text-align: right;\">\n",
       "      <th></th>\n",
       "      <th>FECHA_CORTE</th>\n",
       "      <th>UUID</th>\n",
       "      <th>ESCUELA</th>\n",
       "      <th>MODALIDAD</th>\n",
       "      <th>ANNIO_POSTULACION</th>\n",
       "      <th>UBIGEO</th>\n",
       "      <th>DEPARTAMENTO</th>\n",
       "      <th>PROVINCIA</th>\n",
       "      <th>DISTRITO</th>\n",
       "      <th>UBIGEO_ORIGEN</th>\n",
       "      <th>...</th>\n",
       "      <th>EDAD</th>\n",
       "      <th>SEXO</th>\n",
       "      <th>PAGO</th>\n",
       "      <th>IDIOMA</th>\n",
       "      <th>LEE</th>\n",
       "      <th>ESCRIBE</th>\n",
       "      <th>HABLA</th>\n",
       "      <th>TIENE_DISCAPACIDAD</th>\n",
       "      <th>TIPO_COMUNIDAD</th>\n",
       "      <th>COMUNIDAD</th>\n",
       "    </tr>\n",
       "  </thead>\n",
       "  <tbody>\n",
       "    <tr>\n",
       "      <th>0</th>\n",
       "      <td>20230626</td>\n",
       "      <td>eb33a3</td>\n",
       "      <td>INGENIERÍA CIVIL</td>\n",
       "      <td>PRIMERA OPORTUNIDAD PARA ESTUDIANTES DEL QUINT...</td>\n",
       "      <td>2020</td>\n",
       "      <td>80901</td>\n",
       "      <td>CUSCO</td>\n",
       "      <td>LA CONVENCIÓN</td>\n",
       "      <td>SANTA ANA</td>\n",
       "      <td>80901</td>\n",
       "      <td>...</td>\n",
       "      <td>20</td>\n",
       "      <td>MASCULINO</td>\n",
       "      <td>250</td>\n",
       "      <td>Español</td>\n",
       "      <td>SI</td>\n",
       "      <td>NO</td>\n",
       "      <td>NO</td>\n",
       "      <td>NO</td>\n",
       "      <td>NINGUNA</td>\n",
       "      <td>NINGUNA</td>\n",
       "    </tr>\n",
       "    <tr>\n",
       "      <th>1</th>\n",
       "      <td>20230626</td>\n",
       "      <td>37aa52</td>\n",
       "      <td>ECOTURISMO</td>\n",
       "      <td>PRIMERA OPORTUNIDAD PARA ESTUDIANTES DEL QUINT...</td>\n",
       "      <td>2020</td>\n",
       "      <td>80901</td>\n",
       "      <td>CUSCO</td>\n",
       "      <td>LA CONVENCIÓN</td>\n",
       "      <td>SANTA ANA</td>\n",
       "      <td>80901</td>\n",
       "      <td>...</td>\n",
       "      <td>20</td>\n",
       "      <td>MASCULINO</td>\n",
       "      <td>250</td>\n",
       "      <td>Español</td>\n",
       "      <td>SI</td>\n",
       "      <td>NO</td>\n",
       "      <td>NO</td>\n",
       "      <td>NO</td>\n",
       "      <td>NINGUNA</td>\n",
       "      <td>NINGUNA</td>\n",
       "    </tr>\n",
       "    <tr>\n",
       "      <th>2</th>\n",
       "      <td>20230626</td>\n",
       "      <td>41b65f</td>\n",
       "      <td>INGENIERÍA CIVIL</td>\n",
       "      <td>PRIMERA OPORTUNIDAD PARA ESTUDIANTES DEL QUINT...</td>\n",
       "      <td>2020</td>\n",
       "      <td>80901</td>\n",
       "      <td>CUSCO</td>\n",
       "      <td>LA CONVENCIÓN</td>\n",
       "      <td>SANTA ANA</td>\n",
       "      <td>80901</td>\n",
       "      <td>...</td>\n",
       "      <td>19</td>\n",
       "      <td>MASCULINO</td>\n",
       "      <td>250</td>\n",
       "      <td>Español</td>\n",
       "      <td>SI</td>\n",
       "      <td>NO</td>\n",
       "      <td>NO</td>\n",
       "      <td>NO</td>\n",
       "      <td>NINGUNA</td>\n",
       "      <td>NINGUNA</td>\n",
       "    </tr>\n",
       "    <tr>\n",
       "      <th>3</th>\n",
       "      <td>20230626</td>\n",
       "      <td>60d267</td>\n",
       "      <td>INGENIERÍA AGRONÓMICA TROPICAL</td>\n",
       "      <td>PRIMERA OPORTUNIDAD PARA ESTUDIANTES DEL QUINT...</td>\n",
       "      <td>2020</td>\n",
       "      <td>80901</td>\n",
       "      <td>CUSCO</td>\n",
       "      <td>LA CONVENCIÓN</td>\n",
       "      <td>SANTA ANA</td>\n",
       "      <td>80901</td>\n",
       "      <td>...</td>\n",
       "      <td>20</td>\n",
       "      <td>MASCULINO</td>\n",
       "      <td>250</td>\n",
       "      <td>Español</td>\n",
       "      <td>SI</td>\n",
       "      <td>NO</td>\n",
       "      <td>NO</td>\n",
       "      <td>NO</td>\n",
       "      <td>NINGUNA</td>\n",
       "      <td>NINGUNA</td>\n",
       "    </tr>\n",
       "    <tr>\n",
       "      <th>4</th>\n",
       "      <td>20230626</td>\n",
       "      <td>28acbc</td>\n",
       "      <td>INGENIERÍA DE ALIMENTOS</td>\n",
       "      <td>PRIMERA OPORTUNIDAD PARA ESTUDIANTES DEL QUINT...</td>\n",
       "      <td>2020</td>\n",
       "      <td>80902</td>\n",
       "      <td>CUSCO</td>\n",
       "      <td>LA CONVENCIÓN</td>\n",
       "      <td>ECHARATE</td>\n",
       "      <td>80902</td>\n",
       "      <td>...</td>\n",
       "      <td>20</td>\n",
       "      <td>FEMENINO</td>\n",
       "      <td>200</td>\n",
       "      <td>Español</td>\n",
       "      <td>SI</td>\n",
       "      <td>NO</td>\n",
       "      <td>NO</td>\n",
       "      <td>NO</td>\n",
       "      <td>NINGUNA</td>\n",
       "      <td>NINGUNA</td>\n",
       "    </tr>\n",
       "  </tbody>\n",
       "</table>\n",
       "<p>5 rows × 27 columns</p>\n",
       "</div>"
      ],
      "text/plain": [
       "   FECHA_CORTE    UUID                         ESCUELA  \\\n",
       "0     20230626  eb33a3                INGENIERÍA CIVIL   \n",
       "1     20230626  37aa52                      ECOTURISMO   \n",
       "2     20230626  41b65f                INGENIERÍA CIVIL   \n",
       "3     20230626  60d267  INGENIERÍA AGRONÓMICA TROPICAL   \n",
       "4     20230626  28acbc         INGENIERÍA DE ALIMENTOS   \n",
       "\n",
       "                                           MODALIDAD  ANNIO_POSTULACION  \\\n",
       "0  PRIMERA OPORTUNIDAD PARA ESTUDIANTES DEL QUINT...               2020   \n",
       "1  PRIMERA OPORTUNIDAD PARA ESTUDIANTES DEL QUINT...               2020   \n",
       "2  PRIMERA OPORTUNIDAD PARA ESTUDIANTES DEL QUINT...               2020   \n",
       "3  PRIMERA OPORTUNIDAD PARA ESTUDIANTES DEL QUINT...               2020   \n",
       "4  PRIMERA OPORTUNIDAD PARA ESTUDIANTES DEL QUINT...               2020   \n",
       "\n",
       "   UBIGEO DEPARTAMENTO      PROVINCIA   DISTRITO  UBIGEO_ORIGEN  ... EDAD  \\\n",
       "0   80901        CUSCO  LA CONVENCIÓN  SANTA ANA          80901  ...   20   \n",
       "1   80901        CUSCO  LA CONVENCIÓN  SANTA ANA          80901  ...   20   \n",
       "2   80901        CUSCO  LA CONVENCIÓN  SANTA ANA          80901  ...   19   \n",
       "3   80901        CUSCO  LA CONVENCIÓN  SANTA ANA          80901  ...   20   \n",
       "4   80902        CUSCO  LA CONVENCIÓN   ECHARATE          80902  ...   20   \n",
       "\n",
       "        SEXO PAGO   IDIOMA LEE ESCRIBE HABLA  TIENE_DISCAPACIDAD  \\\n",
       "0  MASCULINO  250  Español  SI      NO    NO                  NO   \n",
       "1  MASCULINO  250  Español  SI      NO    NO                  NO   \n",
       "2  MASCULINO  250  Español  SI      NO    NO                  NO   \n",
       "3  MASCULINO  250  Español  SI      NO    NO                  NO   \n",
       "4   FEMENINO  200  Español  SI      NO    NO                  NO   \n",
       "\n",
       "  TIPO_COMUNIDAD  COMUNIDAD  \n",
       "0        NINGUNA    NINGUNA  \n",
       "1        NINGUNA    NINGUNA  \n",
       "2        NINGUNA    NINGUNA  \n",
       "3        NINGUNA    NINGUNA  \n",
       "4        NINGUNA    NINGUNA  \n",
       "\n",
       "[5 rows x 27 columns]"
      ]
     },
     "execution_count": 94,
     "metadata": {},
     "output_type": "execute_result"
    }
   ],
   "source": [
    "# Simplificar la variable UUID\n",
    "Postulantes[\"UUID\"] = Postulantes[\"UUID\"].apply(lambda x: x[:3] + x[-3:])\n",
    "\n",
    "# Mostrar el conjunto de datos con la variable UUID simplificada\n",
    "Postulantes.head()"
   ]
  },
  {
   "cell_type": "code",
   "execution_count": 95,
   "metadata": {
    "tags": []
   },
   "outputs": [
    {
     "data": {
      "text/plain": [
       "80901     1813\n",
       "80909      567\n",
       "80902      480\n",
       "80914      291\n",
       "80906      195\n",
       "          ... \n",
       "150106       1\n",
       "40501        1\n",
       "80708        1\n",
       "200101       1\n",
       "100101       1\n",
       "Name: UBIGEO, Length: 213, dtype: int64"
      ]
     },
     "execution_count": 95,
     "metadata": {},
     "output_type": "execute_result"
    }
   ],
   "source": [
    "Postulantes[\"UBIGEO\"].value_counts()"
   ]
  },
  {
   "cell_type": "markdown",
   "metadata": {},
   "source": [
    "### Gráfico de Histograma del conjunto de datos Postulantes\n"
   ]
  },
  {
   "cell_type": "code",
   "execution_count": 96,
   "metadata": {
    "tags": []
   },
   "outputs": [
    {
     "name": "stdout",
     "output_type": "stream",
     "text": [
      "Requirement already satisfied: dash in /home/laad/anaconda3/lib/python3.11/site-packages (2.13.0)\n",
      "Requirement already satisfied: Flask<2.3.0,>=1.0.4 in /home/laad/anaconda3/lib/python3.11/site-packages (from dash) (2.2.2)\n",
      "Requirement already satisfied: Werkzeug<2.3.0 in /home/laad/anaconda3/lib/python3.11/site-packages (from dash) (2.2.3)\n",
      "Requirement already satisfied: plotly>=5.0.0 in /home/laad/anaconda3/lib/python3.11/site-packages (from dash) (5.9.0)\n",
      "Requirement already satisfied: dash-html-components==2.0.0 in /home/laad/anaconda3/lib/python3.11/site-packages (from dash) (2.0.0)\n",
      "Requirement already satisfied: dash-core-components==2.0.0 in /home/laad/anaconda3/lib/python3.11/site-packages (from dash) (2.0.0)\n",
      "Requirement already satisfied: dash-table==5.0.0 in /home/laad/anaconda3/lib/python3.11/site-packages (from dash) (5.0.0)\n",
      "Requirement already satisfied: typing-extensions>=4.1.1 in /home/laad/anaconda3/lib/python3.11/site-packages (from dash) (4.7.1)\n",
      "Requirement already satisfied: requests in /home/laad/anaconda3/lib/python3.11/site-packages (from dash) (2.31.0)\n",
      "Requirement already satisfied: retrying in /home/laad/anaconda3/lib/python3.11/site-packages (from dash) (1.3.4)\n",
      "Requirement already satisfied: ansi2html in /home/laad/anaconda3/lib/python3.11/site-packages (from dash) (1.8.0)\n",
      "Requirement already satisfied: nest-asyncio in /home/laad/anaconda3/lib/python3.11/site-packages (from dash) (1.5.6)\n",
      "Requirement already satisfied: setuptools in /home/laad/anaconda3/lib/python3.11/site-packages (from dash) (68.0.0)\n",
      "Requirement already satisfied: Jinja2>=3.0 in /home/laad/anaconda3/lib/python3.11/site-packages (from Flask<2.3.0,>=1.0.4->dash) (3.1.2)\n",
      "Requirement already satisfied: itsdangerous>=2.0 in /home/laad/anaconda3/lib/python3.11/site-packages (from Flask<2.3.0,>=1.0.4->dash) (2.0.1)\n",
      "Requirement already satisfied: click>=8.0 in /home/laad/anaconda3/lib/python3.11/site-packages (from Flask<2.3.0,>=1.0.4->dash) (8.0.4)\n",
      "Requirement already satisfied: tenacity>=6.2.0 in /home/laad/anaconda3/lib/python3.11/site-packages (from plotly>=5.0.0->dash) (8.2.2)\n",
      "Requirement already satisfied: MarkupSafe>=2.1.1 in /home/laad/anaconda3/lib/python3.11/site-packages (from Werkzeug<2.3.0->dash) (2.1.1)\n",
      "Requirement already satisfied: charset-normalizer<4,>=2 in /home/laad/anaconda3/lib/python3.11/site-packages (from requests->dash) (2.0.4)\n",
      "Requirement already satisfied: idna<4,>=2.5 in /home/laad/anaconda3/lib/python3.11/site-packages (from requests->dash) (3.4)\n",
      "Requirement already satisfied: urllib3<3,>=1.21.1 in /home/laad/anaconda3/lib/python3.11/site-packages (from requests->dash) (1.26.16)\n",
      "Requirement already satisfied: certifi>=2017.4.17 in /home/laad/anaconda3/lib/python3.11/site-packages (from requests->dash) (2023.7.22)\n",
      "Requirement already satisfied: six>=1.7.0 in /home/laad/anaconda3/lib/python3.11/site-packages (from retrying->dash) (1.16.0)\n"
     ]
    }
   ],
   "source": [
    "!pip install dash"
   ]
  },
  {
   "cell_type": "code",
   "execution_count": 97,
   "metadata": {},
   "outputs": [
    {
     "name": "stderr",
     "output_type": "stream",
     "text": [
      "Address already in use\n",
      "Port 8050 is in use by another program. Either identify and stop that program, or start the server with a different port.\n"
     ]
    },
    {
     "ename": "AttributeError",
     "evalue": "'tuple' object has no attribute 'tb_frame'",
     "output_type": "error",
     "traceback": [
      "\u001b[0;31m---------------------------------------------------------------------------\u001b[0m",
      "\u001b[0;31mOSError\u001b[0m                                   Traceback (most recent call last)",
      "File \u001b[0;32m~/anaconda3/lib/python3.11/site-packages/werkzeug/serving.py:710\u001b[0m, in \u001b[0;36mBaseWSGIServer.__init__\u001b[0;34m(self, host, port, app, handler, passthrough_errors, ssl_context, fd)\u001b[0m\n\u001b[1;32m    709\u001b[0m \u001b[38;5;28;01mtry\u001b[39;00m:\n\u001b[0;32m--> 710\u001b[0m     \u001b[38;5;28mself\u001b[39m\u001b[38;5;241m.\u001b[39mserver_bind()\n\u001b[1;32m    711\u001b[0m     \u001b[38;5;28mself\u001b[39m\u001b[38;5;241m.\u001b[39mserver_activate()\n",
      "File \u001b[0;32m~/anaconda3/lib/python3.11/http/server.py:136\u001b[0m, in \u001b[0;36mHTTPServer.server_bind\u001b[0;34m(self)\u001b[0m\n\u001b[1;32m    135\u001b[0m \u001b[38;5;250m\u001b[39m\u001b[38;5;124;03m\"\"\"Override server_bind to store the server name.\"\"\"\u001b[39;00m\n\u001b[0;32m--> 136\u001b[0m socketserver\u001b[38;5;241m.\u001b[39mTCPServer\u001b[38;5;241m.\u001b[39mserver_bind(\u001b[38;5;28mself\u001b[39m)\n\u001b[1;32m    137\u001b[0m host, port \u001b[38;5;241m=\u001b[39m \u001b[38;5;28mself\u001b[39m\u001b[38;5;241m.\u001b[39mserver_address[:\u001b[38;5;241m2\u001b[39m]\n",
      "File \u001b[0;32m~/anaconda3/lib/python3.11/socketserver.py:472\u001b[0m, in \u001b[0;36mTCPServer.server_bind\u001b[0;34m(self)\u001b[0m\n\u001b[1;32m    471\u001b[0m     \u001b[38;5;28mself\u001b[39m\u001b[38;5;241m.\u001b[39msocket\u001b[38;5;241m.\u001b[39msetsockopt(socket\u001b[38;5;241m.\u001b[39mSOL_SOCKET, socket\u001b[38;5;241m.\u001b[39mSO_REUSEPORT, \u001b[38;5;241m1\u001b[39m)\n\u001b[0;32m--> 472\u001b[0m \u001b[38;5;28mself\u001b[39m\u001b[38;5;241m.\u001b[39msocket\u001b[38;5;241m.\u001b[39mbind(\u001b[38;5;28mself\u001b[39m\u001b[38;5;241m.\u001b[39mserver_address)\n\u001b[1;32m    473\u001b[0m \u001b[38;5;28mself\u001b[39m\u001b[38;5;241m.\u001b[39mserver_address \u001b[38;5;241m=\u001b[39m \u001b[38;5;28mself\u001b[39m\u001b[38;5;241m.\u001b[39msocket\u001b[38;5;241m.\u001b[39mgetsockname()\n",
      "\u001b[0;31mOSError\u001b[0m: [Errno 98] Address already in use",
      "\nDuring handling of the above exception, another exception occurred:\n",
      "\u001b[0;31mSystemExit\u001b[0m                                Traceback (most recent call last)",
      "    \u001b[0;31m[... skipping hidden 1 frame]\u001b[0m\n",
      "Cell \u001b[0;32mIn[97], line 47\u001b[0m\n\u001b[1;32m     44\u001b[0m     \u001b[38;5;28;01mreturn\u001b[39;00m fig\n\u001b[0;32m---> 47\u001b[0m app\u001b[38;5;241m.\u001b[39mrun_server(debug\u001b[38;5;241m=\u001b[39m\u001b[38;5;28;01mTrue\u001b[39;00m)\n",
      "File \u001b[0;32m~/anaconda3/lib/python3.11/site-packages/dash/dash.py:2155\u001b[0m, in \u001b[0;36mDash.run_server\u001b[0;34m(self, *args, **kwargs)\u001b[0m\n\u001b[1;32m   2150\u001b[0m \u001b[38;5;250m\u001b[39m\u001b[38;5;124;03m\"\"\"`run_server` is a deprecated alias of `run` and may be removed in a\u001b[39;00m\n\u001b[1;32m   2151\u001b[0m \u001b[38;5;124;03mfuture version. We recommend using `app.run` instead.\u001b[39;00m\n\u001b[1;32m   2152\u001b[0m \n\u001b[1;32m   2153\u001b[0m \u001b[38;5;124;03mSee `app.run` for usage information.\u001b[39;00m\n\u001b[1;32m   2154\u001b[0m \u001b[38;5;124;03m\"\"\"\u001b[39;00m\n\u001b[0;32m-> 2155\u001b[0m \u001b[38;5;28mself\u001b[39m\u001b[38;5;241m.\u001b[39mrun(\u001b[38;5;241m*\u001b[39margs, \u001b[38;5;241m*\u001b[39m\u001b[38;5;241m*\u001b[39mkwargs)\n",
      "File \u001b[0;32m~/anaconda3/lib/python3.11/site-packages/dash/dash.py:2053\u001b[0m, in \u001b[0;36mDash.run\u001b[0;34m(self, host, port, proxy, debug, jupyter_mode, jupyter_width, jupyter_height, jupyter_server_url, dev_tools_ui, dev_tools_props_check, dev_tools_serve_dev_bundles, dev_tools_hot_reload, dev_tools_hot_reload_interval, dev_tools_hot_reload_watch_interval, dev_tools_hot_reload_max_retry, dev_tools_silence_routes_logging, dev_tools_prune_errors, **flask_run_options)\u001b[0m\n\u001b[1;32m   2052\u001b[0m \u001b[38;5;28;01mif\u001b[39;00m jupyter_dash\u001b[38;5;241m.\u001b[39mactive:\n\u001b[0;32m-> 2053\u001b[0m     jupyter_dash\u001b[38;5;241m.\u001b[39mrun_app(\n\u001b[1;32m   2054\u001b[0m         \u001b[38;5;28mself\u001b[39m,\n\u001b[1;32m   2055\u001b[0m         mode\u001b[38;5;241m=\u001b[39mjupyter_mode,\n\u001b[1;32m   2056\u001b[0m         width\u001b[38;5;241m=\u001b[39mjupyter_width,\n\u001b[1;32m   2057\u001b[0m         height\u001b[38;5;241m=\u001b[39mjupyter_height,\n\u001b[1;32m   2058\u001b[0m         host\u001b[38;5;241m=\u001b[39mhost,\n\u001b[1;32m   2059\u001b[0m         port\u001b[38;5;241m=\u001b[39mport,\n\u001b[1;32m   2060\u001b[0m         server_url\u001b[38;5;241m=\u001b[39mjupyter_server_url,\n\u001b[1;32m   2061\u001b[0m     )\n\u001b[1;32m   2062\u001b[0m \u001b[38;5;28;01melse\u001b[39;00m:\n",
      "File \u001b[0;32m~/anaconda3/lib/python3.11/site-packages/dash/_jupyter.py:329\u001b[0m, in \u001b[0;36mJupyterDash.run_app\u001b[0;34m(self, app, mode, width, height, host, port, server_url)\u001b[0m\n\u001b[1;32m    327\u001b[0m err_q \u001b[38;5;241m=\u001b[39m queue\u001b[38;5;241m.\u001b[39mQueue()\n\u001b[0;32m--> 329\u001b[0m server \u001b[38;5;241m=\u001b[39m make_server(host, port, app\u001b[38;5;241m.\u001b[39mserver, threaded\u001b[38;5;241m=\u001b[39m\u001b[38;5;28;01mTrue\u001b[39;00m, processes\u001b[38;5;241m=\u001b[39m\u001b[38;5;241m0\u001b[39m)\n\u001b[1;32m    330\u001b[0m logging\u001b[38;5;241m.\u001b[39mgetLogger(\u001b[38;5;124m\"\u001b[39m\u001b[38;5;124mwerkzeug\u001b[39m\u001b[38;5;124m\"\u001b[39m)\u001b[38;5;241m.\u001b[39msetLevel(logging\u001b[38;5;241m.\u001b[39mERROR)\n",
      "File \u001b[0;32m~/anaconda3/lib/python3.11/site-packages/werkzeug/serving.py:877\u001b[0m, in \u001b[0;36mmake_server\u001b[0;34m(host, port, app, threaded, processes, request_handler, passthrough_errors, ssl_context, fd)\u001b[0m\n\u001b[1;32m    876\u001b[0m \u001b[38;5;28;01mif\u001b[39;00m threaded:\n\u001b[0;32m--> 877\u001b[0m     \u001b[38;5;28;01mreturn\u001b[39;00m ThreadedWSGIServer(\n\u001b[1;32m    878\u001b[0m         host, port, app, request_handler, passthrough_errors, ssl_context, fd\u001b[38;5;241m=\u001b[39mfd\n\u001b[1;32m    879\u001b[0m     )\n\u001b[1;32m    881\u001b[0m \u001b[38;5;28;01mif\u001b[39;00m processes \u001b[38;5;241m>\u001b[39m \u001b[38;5;241m1\u001b[39m:\n",
      "File \u001b[0;32m~/anaconda3/lib/python3.11/site-packages/werkzeug/serving.py:733\u001b[0m, in \u001b[0;36mBaseWSGIServer.__init__\u001b[0;34m(self, host, port, app, handler, passthrough_errors, ssl_context, fd)\u001b[0m\n\u001b[1;32m    727\u001b[0m             \u001b[38;5;28mprint\u001b[39m(\n\u001b[1;32m    728\u001b[0m                 \u001b[38;5;124m\"\u001b[39m\u001b[38;5;124mOn macOS, try disabling the \u001b[39m\u001b[38;5;124m'\u001b[39m\u001b[38;5;124mAirPlay Receiver\u001b[39m\u001b[38;5;124m'\u001b[39m\u001b[38;5;124m service\u001b[39m\u001b[38;5;124m\"\u001b[39m\n\u001b[1;32m    729\u001b[0m                 \u001b[38;5;124m\"\u001b[39m\u001b[38;5;124m from System Preferences -> Sharing.\u001b[39m\u001b[38;5;124m\"\u001b[39m,\n\u001b[1;32m    730\u001b[0m                 file\u001b[38;5;241m=\u001b[39msys\u001b[38;5;241m.\u001b[39mstderr,\n\u001b[1;32m    731\u001b[0m             )\n\u001b[0;32m--> 733\u001b[0m     sys\u001b[38;5;241m.\u001b[39mexit(\u001b[38;5;241m1\u001b[39m)\n\u001b[1;32m    734\u001b[0m \u001b[38;5;28;01mexcept\u001b[39;00m \u001b[38;5;167;01mBaseException\u001b[39;00m:\n",
      "\u001b[0;31mSystemExit\u001b[0m: 1",
      "\nDuring handling of the above exception, another exception occurred:\n",
      "\u001b[0;31mAttributeError\u001b[0m                            Traceback (most recent call last)",
      "    \u001b[0;31m[... skipping hidden 1 frame]\u001b[0m\n",
      "File \u001b[0;32m~/anaconda3/lib/python3.11/site-packages/IPython/core/interactiveshell.py:2092\u001b[0m, in \u001b[0;36mInteractiveShell.showtraceback\u001b[0;34m(self, exc_tuple, filename, tb_offset, exception_only, running_compiled_code)\u001b[0m\n\u001b[1;32m   2089\u001b[0m \u001b[38;5;28;01mif\u001b[39;00m exception_only:\n\u001b[1;32m   2090\u001b[0m     stb \u001b[38;5;241m=\u001b[39m [\u001b[38;5;124m'\u001b[39m\u001b[38;5;124mAn exception has occurred, use \u001b[39m\u001b[38;5;124m%\u001b[39m\u001b[38;5;124mtb to see \u001b[39m\u001b[38;5;124m'\u001b[39m\n\u001b[1;32m   2091\u001b[0m            \u001b[38;5;124m'\u001b[39m\u001b[38;5;124mthe full traceback.\u001b[39m\u001b[38;5;130;01m\\n\u001b[39;00m\u001b[38;5;124m'\u001b[39m]\n\u001b[0;32m-> 2092\u001b[0m     stb\u001b[38;5;241m.\u001b[39mextend(\u001b[38;5;28mself\u001b[39m\u001b[38;5;241m.\u001b[39mInteractiveTB\u001b[38;5;241m.\u001b[39mget_exception_only(etype,\n\u001b[1;32m   2093\u001b[0m                                                      value))\n\u001b[1;32m   2094\u001b[0m \u001b[38;5;28;01melse\u001b[39;00m:\n\u001b[1;32m   2095\u001b[0m     \u001b[38;5;28;01mtry\u001b[39;00m:\n\u001b[1;32m   2096\u001b[0m         \u001b[38;5;66;03m# Exception classes can customise their traceback - we\u001b[39;00m\n\u001b[1;32m   2097\u001b[0m         \u001b[38;5;66;03m# use this in IPython.parallel for exceptions occurring\u001b[39;00m\n\u001b[1;32m   2098\u001b[0m         \u001b[38;5;66;03m# in the engines. This should return a list of strings.\u001b[39;00m\n",
      "File \u001b[0;32m~/anaconda3/lib/python3.11/site-packages/IPython/core/ultratb.py:644\u001b[0m, in \u001b[0;36mListTB.get_exception_only\u001b[0;34m(self, etype, value)\u001b[0m\n\u001b[1;32m    636\u001b[0m \u001b[38;5;28;01mdef\u001b[39;00m \u001b[38;5;21mget_exception_only\u001b[39m(\u001b[38;5;28mself\u001b[39m, etype, value):\n\u001b[1;32m    637\u001b[0m \u001b[38;5;250m    \u001b[39m\u001b[38;5;124;03m\"\"\"Only print the exception type and message, without a traceback.\u001b[39;00m\n\u001b[1;32m    638\u001b[0m \n\u001b[1;32m    639\u001b[0m \u001b[38;5;124;03m    Parameters\u001b[39;00m\n\u001b[0;32m   (...)\u001b[0m\n\u001b[1;32m    642\u001b[0m \u001b[38;5;124;03m    value : exception value\u001b[39;00m\n\u001b[1;32m    643\u001b[0m \u001b[38;5;124;03m    \"\"\"\u001b[39;00m\n\u001b[0;32m--> 644\u001b[0m     \u001b[38;5;28;01mreturn\u001b[39;00m ListTB\u001b[38;5;241m.\u001b[39mstructured_traceback(\u001b[38;5;28mself\u001b[39m, etype, value)\n",
      "File \u001b[0;32m~/anaconda3/lib/python3.11/site-packages/IPython/core/ultratb.py:511\u001b[0m, in \u001b[0;36mListTB.structured_traceback\u001b[0;34m(self, etype, evalue, etb, tb_offset, context)\u001b[0m\n\u001b[1;32m    508\u001b[0m     chained_exc_ids\u001b[38;5;241m.\u001b[39madd(\u001b[38;5;28mid\u001b[39m(exception[\u001b[38;5;241m1\u001b[39m]))\n\u001b[1;32m    509\u001b[0m     chained_exceptions_tb_offset \u001b[38;5;241m=\u001b[39m \u001b[38;5;241m0\u001b[39m\n\u001b[1;32m    510\u001b[0m     out_list \u001b[38;5;241m=\u001b[39m (\n\u001b[0;32m--> 511\u001b[0m         \u001b[38;5;28mself\u001b[39m\u001b[38;5;241m.\u001b[39mstructured_traceback(\n\u001b[1;32m    512\u001b[0m             etype, evalue, (etb, chained_exc_ids),\n\u001b[1;32m    513\u001b[0m             chained_exceptions_tb_offset, context)\n\u001b[1;32m    514\u001b[0m         \u001b[38;5;241m+\u001b[39m chained_exception_message\n\u001b[1;32m    515\u001b[0m         \u001b[38;5;241m+\u001b[39m out_list)\n\u001b[1;32m    517\u001b[0m \u001b[38;5;28;01mreturn\u001b[39;00m out_list\n",
      "File \u001b[0;32m~/anaconda3/lib/python3.11/site-packages/IPython/core/ultratb.py:1310\u001b[0m, in \u001b[0;36mAutoFormattedTB.structured_traceback\u001b[0;34m(self, etype, value, tb, tb_offset, number_of_lines_of_context)\u001b[0m\n\u001b[1;32m   1308\u001b[0m \u001b[38;5;28;01melse\u001b[39;00m:\n\u001b[1;32m   1309\u001b[0m     \u001b[38;5;28mself\u001b[39m\u001b[38;5;241m.\u001b[39mtb \u001b[38;5;241m=\u001b[39m tb\n\u001b[0;32m-> 1310\u001b[0m \u001b[38;5;28;01mreturn\u001b[39;00m FormattedTB\u001b[38;5;241m.\u001b[39mstructured_traceback(\n\u001b[1;32m   1311\u001b[0m     \u001b[38;5;28mself\u001b[39m, etype, value, tb, tb_offset, number_of_lines_of_context)\n",
      "File \u001b[0;32m~/anaconda3/lib/python3.11/site-packages/IPython/core/ultratb.py:1199\u001b[0m, in \u001b[0;36mFormattedTB.structured_traceback\u001b[0;34m(self, etype, value, tb, tb_offset, number_of_lines_of_context)\u001b[0m\n\u001b[1;32m   1196\u001b[0m mode \u001b[38;5;241m=\u001b[39m \u001b[38;5;28mself\u001b[39m\u001b[38;5;241m.\u001b[39mmode\n\u001b[1;32m   1197\u001b[0m \u001b[38;5;28;01mif\u001b[39;00m mode \u001b[38;5;129;01min\u001b[39;00m \u001b[38;5;28mself\u001b[39m\u001b[38;5;241m.\u001b[39mverbose_modes:\n\u001b[1;32m   1198\u001b[0m     \u001b[38;5;66;03m# Verbose modes need a full traceback\u001b[39;00m\n\u001b[0;32m-> 1199\u001b[0m     \u001b[38;5;28;01mreturn\u001b[39;00m VerboseTB\u001b[38;5;241m.\u001b[39mstructured_traceback(\n\u001b[1;32m   1200\u001b[0m         \u001b[38;5;28mself\u001b[39m, etype, value, tb, tb_offset, number_of_lines_of_context\n\u001b[1;32m   1201\u001b[0m     )\n\u001b[1;32m   1202\u001b[0m \u001b[38;5;28;01melif\u001b[39;00m mode \u001b[38;5;241m==\u001b[39m \u001b[38;5;124m'\u001b[39m\u001b[38;5;124mMinimal\u001b[39m\u001b[38;5;124m'\u001b[39m:\n\u001b[1;32m   1203\u001b[0m     \u001b[38;5;28;01mreturn\u001b[39;00m ListTB\u001b[38;5;241m.\u001b[39mget_exception_only(\u001b[38;5;28mself\u001b[39m, etype, value)\n",
      "File \u001b[0;32m~/anaconda3/lib/python3.11/site-packages/IPython/core/ultratb.py:1052\u001b[0m, in \u001b[0;36mVerboseTB.structured_traceback\u001b[0;34m(self, etype, evalue, etb, tb_offset, number_of_lines_of_context)\u001b[0m\n\u001b[1;32m   1043\u001b[0m \u001b[38;5;28;01mdef\u001b[39;00m \u001b[38;5;21mstructured_traceback\u001b[39m(\n\u001b[1;32m   1044\u001b[0m     \u001b[38;5;28mself\u001b[39m,\n\u001b[1;32m   1045\u001b[0m     etype: \u001b[38;5;28mtype\u001b[39m,\n\u001b[0;32m   (...)\u001b[0m\n\u001b[1;32m   1049\u001b[0m     number_of_lines_of_context: \u001b[38;5;28mint\u001b[39m \u001b[38;5;241m=\u001b[39m \u001b[38;5;241m5\u001b[39m,\n\u001b[1;32m   1050\u001b[0m ):\n\u001b[1;32m   1051\u001b[0m \u001b[38;5;250m    \u001b[39m\u001b[38;5;124;03m\"\"\"Return a nice text document describing the traceback.\"\"\"\u001b[39;00m\n\u001b[0;32m-> 1052\u001b[0m     formatted_exception \u001b[38;5;241m=\u001b[39m \u001b[38;5;28mself\u001b[39m\u001b[38;5;241m.\u001b[39mformat_exception_as_a_whole(etype, evalue, etb, number_of_lines_of_context,\n\u001b[1;32m   1053\u001b[0m                                                            tb_offset)\n\u001b[1;32m   1055\u001b[0m     colors \u001b[38;5;241m=\u001b[39m \u001b[38;5;28mself\u001b[39m\u001b[38;5;241m.\u001b[39mColors  \u001b[38;5;66;03m# just a shorthand + quicker name lookup\u001b[39;00m\n\u001b[1;32m   1056\u001b[0m     colorsnormal \u001b[38;5;241m=\u001b[39m colors\u001b[38;5;241m.\u001b[39mNormal  \u001b[38;5;66;03m# used a lot\u001b[39;00m\n",
      "File \u001b[0;32m~/anaconda3/lib/python3.11/site-packages/IPython/core/ultratb.py:953\u001b[0m, in \u001b[0;36mVerboseTB.format_exception_as_a_whole\u001b[0;34m(self, etype, evalue, etb, number_of_lines_of_context, tb_offset)\u001b[0m\n\u001b[1;32m    950\u001b[0m \u001b[38;5;28;01massert\u001b[39;00m \u001b[38;5;28misinstance\u001b[39m(tb_offset, \u001b[38;5;28mint\u001b[39m)\n\u001b[1;32m    951\u001b[0m head \u001b[38;5;241m=\u001b[39m \u001b[38;5;28mself\u001b[39m\u001b[38;5;241m.\u001b[39mprepare_header(etype, \u001b[38;5;28mself\u001b[39m\u001b[38;5;241m.\u001b[39mlong_header)\n\u001b[1;32m    952\u001b[0m records \u001b[38;5;241m=\u001b[39m (\n\u001b[0;32m--> 953\u001b[0m     \u001b[38;5;28mself\u001b[39m\u001b[38;5;241m.\u001b[39mget_records(etb, number_of_lines_of_context, tb_offset) \u001b[38;5;28;01mif\u001b[39;00m etb \u001b[38;5;28;01melse\u001b[39;00m []\n\u001b[1;32m    954\u001b[0m )\n\u001b[1;32m    956\u001b[0m frames \u001b[38;5;241m=\u001b[39m []\n\u001b[1;32m    957\u001b[0m skipped \u001b[38;5;241m=\u001b[39m \u001b[38;5;241m0\u001b[39m\n",
      "File \u001b[0;32m~/anaconda3/lib/python3.11/site-packages/IPython/core/ultratb.py:1021\u001b[0m, in \u001b[0;36mVerboseTB.get_records\u001b[0;34m(self, etb, number_of_lines_of_context, tb_offset)\u001b[0m\n\u001b[1;32m   1019\u001b[0m \u001b[38;5;28;01mwhile\u001b[39;00m cf \u001b[38;5;129;01mis\u001b[39;00m \u001b[38;5;129;01mnot\u001b[39;00m \u001b[38;5;28;01mNone\u001b[39;00m:\n\u001b[1;32m   1020\u001b[0m     \u001b[38;5;28;01mtry\u001b[39;00m:\n\u001b[0;32m-> 1021\u001b[0m         source_file \u001b[38;5;241m=\u001b[39m inspect\u001b[38;5;241m.\u001b[39mgetsourcefile(etb\u001b[38;5;241m.\u001b[39mtb_frame)\n\u001b[1;32m   1022\u001b[0m         lines, first \u001b[38;5;241m=\u001b[39m inspect\u001b[38;5;241m.\u001b[39mgetsourcelines(etb\u001b[38;5;241m.\u001b[39mtb_frame)\n\u001b[1;32m   1023\u001b[0m     \u001b[38;5;28;01mexcept\u001b[39;00m \u001b[38;5;167;01mOSError\u001b[39;00m:\n",
      "\u001b[0;31mAttributeError\u001b[0m: 'tuple' object has no attribute 'tb_frame'"
     ]
    }
   ],
   "source": [
    "# Importar bibliotecas\n",
    "from dash import Dash, html, dcc, callback, Output, Input\n",
    "import pandas as pd\n",
    "import plotly.express as px\n",
    "\n",
    "# Inicializar la aplicación\n",
    "app = Dash(__name__)\n",
    "\n",
    "# Diseño de la aplicación\n",
    "app.layout = html.Div(\n",
    "    style={\"textAlign\": \"center\", \"padding\": \"20px\"},\n",
    "    children=[\n",
    "        html.H1(\"Gráfico de Histograma Interactivo\", style={\"color\": \"#2E86C1\"}),\n",
    "        html.Hr(),\n",
    "        dcc.Dropdown(\n",
    "            id=\"dropdown-column\",\n",
    "            options=[{\"label\": col, \"value\": col} for col in Postulantes.columns],\n",
    "            value=\"EDAD\",\n",
    "            multi=False,\n",
    "            style={\"width\": \"50%\", \"margin\": \"auto\"},\n",
    "        ),\n",
    "        dcc.Graph(id=\"histogram\", style={\"margin-top\": \"20px\"}),\n",
    "    ],\n",
    ")\n",
    "\n",
    "\n",
    "# Definir la función de devolución de llamada\n",
    "@callback(\n",
    "    Output(component_id=\"histogram\", component_property=\"figure\"),\n",
    "    Input(component_id=\"dropdown-column\", component_property=\"value\"),\n",
    ")\n",
    "def update_histogram(selected_column):\n",
    "    fig = px.histogram(\n",
    "        Postulantes,\n",
    "        x=selected_column,\n",
    "        title=f\"Histograma de {selected_column}\",\n",
    "        color_discrete_sequence=px.colors.sequential.Viridis,\n",
    "    )\n",
    "    fig.update_layout(\n",
    "        plot_bgcolor=\"#F9F9F9\",  # Color de fondo del gráfico\n",
    "        paper_bgcolor=\"#F9F9F9\",  # Color de fondo del área de trazado\n",
    "        font_color=\"#333333\",  # Color de fuente\n",
    "    )\n",
    "    return fig\n",
    "\n",
    "\n",
    "app.run_server(debug=True)"
   ]
  },
  {
   "cell_type": "markdown",
   "metadata": {},
   "source": [
    "## <a><font size=\"6\"><div style=\"border-radius:5px;color:#2F4F4F;background-color:#BFBF00;\"> 🏋️‍♀️ 3.3 Acerca del Conjunto de Datos</div></font></a>\n"
   ]
  },
  {
   "cell_type": "markdown",
   "metadata": {},
   "source": [
    "<div style=\"background-color:#20B2AA; border-radius:10px; padding:10px; box-shadow: 0px 2px 4px rgba(10, 39, 52, 0.1);\">\n",
    "    <h3 style=\"color:#333333;\">📊 - Tamaño del conjunto de datos</h3>\n",
    "    <p style=\"color:#555555;\">Este es el tamaño actual del conjunto de datos:</p>\n",
    "    <p style=\"color:#333333;\">- <strong>Tamaño del conjunto de datos:</strong> (4928, 27)</p>\n",
    "</div>\n"
   ]
  },
  {
   "cell_type": "code",
   "execution_count": null,
   "metadata": {},
   "outputs": [],
   "source": [
    "# Verificar el número de filas y columnas\n",
    "num_filas, num_columnas = Postulantes.shape\n",
    "print(f\"Número de filas: {num_filas}\")\n",
    "print(f\"Número de columnas: {num_columnas}\")"
   ]
  },
  {
   "cell_type": "markdown",
   "metadata": {},
   "source": [
    "**Observaciones:**\n",
    "\n",
    "- El conjunto de datos \"Postulantes\" tiene un total de 4928 filas y 27 columnas.\n",
    "- Cada fila representa un postulante y\n",
    "- cada columna contiene diferentes atributos y características relacionadas con los postulantes\n"
   ]
  },
  {
   "cell_type": "markdown",
   "metadata": {},
   "source": [
    "<div style=\"background-color:#20B2AA; border-radius:10px; padding:10px; box-shadow: 0px 2px 4px rgba(0, 0, 0, 0.1);\">\n",
    "    <h3 style=\"color:#333333;\">📊 Tipología del conjunto de datos</h3>\n",
    "    <p style=\"color:#555555;\">Esta sección muestra la tipología del conjunto de datos:</p>\n",
    "</div>\n"
   ]
  },
  {
   "cell_type": "code",
   "execution_count": null,
   "metadata": {},
   "outputs": [],
   "source": [
    "# Tipos de datos de cada columna\n",
    "print(Postulantes.dtypes)"
   ]
  },
  {
   "cell_type": "markdown",
   "metadata": {},
   "source": [
    "<style>\n",
    "    table {\n",
    "        border-collapse: collapse;\n",
    "        width: 100%;\n",
    "        border: 2px solid #008CBA;\n",
    "        margin-bottom: 20px;\n",
    "    }\n",
    "\n",
    "    th, td {\n",
    "        border: 1px solid #008CBA;\n",
    "        padding: 10px;\n",
    "        text-align: left;\n",
    "    }\n",
    "\n",
    "    th {\n",
    "        background-color: #008CBA;\n",
    "        color: white;\n",
    "    }\n",
    "\n",
    "    h2 {\n",
    "        color: #008CBA;\n",
    "    }\n",
    "</style>\n",
    "\n",
    "#### <span style=\"color:#008CBA;\">Variables Numéricas (`int64`):</span>\n",
    "\n",
    "<table>\n",
    "    <tr>\n",
    "        <th>Variable</th>\n",
    "        <th>Descripción</th>\n",
    "    </tr>\n",
    "    <tr>\n",
    "        <td>FECHA_CORTE</td>\n",
    "        <td>Día en que se generó el DATASET</td>\n",
    "    </tr>\n",
    "    <tr>\n",
    "        <td>ANNIO_POSTULACION</td>\n",
    "        <td>Año del proceso de admisión</td>\n",
    "    </tr>\n",
    "    <tr>\n",
    "        <td>UBIGEO</td>\n",
    "        <td>Código de ubicación geográfica donde nació el postulante</td>\n",
    "    </tr>\n",
    "    <tr>\n",
    "        <td>UBIGEO_ORIGEN</td>\n",
    "        <td>Código de ubicación geográfica donde vive el postulante</td>\n",
    "    </tr>\n",
    "    <tr>\n",
    "        <td>UBIGEO_IE</td>\n",
    "        <td>Código de ubicación geográfica donde culminó sus estudios el postulante</td>\n",
    "    </tr>\n",
    "    <tr>\n",
    "        <td>EDAD</td>\n",
    "        <td>Número que identifica la edad del postulante en la fecha que postuló</td>\n",
    "    </tr>\n",
    "    <tr>\n",
    "        <td>PAGO</td>\n",
    "        <td>Monto del pago que realizó el postulante para dar el examen de admisión</td>\n",
    "    </tr>\n",
    "</table>\n",
    "\n",
    "#### <span style=\"color:#008CBA;\">Variables de Categorías (`object`):</span>\n",
    "\n",
    "<table>\n",
    "    <tr>\n",
    "        <th>Variable</th>\n",
    "        <th>Descripción</th>\n",
    "    </tr>\n",
    "    <tr>\n",
    "        <td>UUID</td>\n",
    "        <td>Documento Nacional de Identidad del alumno que postuló, anonimizado</td>\n",
    "    </tr>\n",
    "    <tr>\n",
    "        <td>ESCUELA</td>\n",
    "        <td>Escuela Profesional a la que postuló el alumno</td>\n",
    "    </tr>\n",
    "    <tr>\n",
    "        <td>MODALIDAD</td>\n",
    "        <td>Modalidad de Postulación</td>\n",
    "    </tr>\n",
    "    <tr>\n",
    "        <td>DEPARTAMENTO</td>\n",
    "        <td>Nombre del departamento donde nació el postulante</td>\n",
    "    </tr>\n",
    "    <tr>\n",
    "        <td>PROVINCIA</td>\n",
    "        <td>Nombre de la provincia donde nació el postulante</td>\n",
    "    </tr>\n",
    "    <tr>\n",
    "        <td>DISTRITO</td>\n",
    "        <td>Nombre del distrito donde nació el postulante</td>\n",
    "    </tr>\n",
    "    <tr>\n",
    "        <td>DEPARTAMENTO_ORIGEN</td>\n",
    "        <td>Nombre del departamento donde vive el postulante</td>\n",
    "    </tr>\n",
    "    <tr>\n",
    "        <td>PROVINCIA_ORIGEN</td>\n",
    "        <td>Nombre de la provincia donde vive el postulante</td>\n",
    "    </tr>\n",
    "    <tr>\n",
    "        <td>DISTRITO_ORIGEN</td>\n",
    "        <td>Nombre del distrito donde vive el postulante</td>\n",
    "    </tr>\n",
    "    <tr>\n",
    "        <td>DEPARTAMENTO_IE</td>\n",
    "        <td>Nombre del departamento donde culminó sus estudios el postulante</td>\n",
    "    </tr>\n",
    "    <tr>\n",
    "        <td>PROVINCIA_IE</td>\n",
    "        <td>Nombre de la provincia donde culminó sus estudios el postulante</td>\n",
    "    </tr>\n",
    "    <tr>\n",
    "        <td>DISTRITO_IE</td>\n",
    "        <td>Nombre del distrito donde culminó sus estudios el postulante</td>\n",
    "    </tr>\n",
    "    <tr>\n",
    "        <td>SEXO</td>\n",
    "        <td>Descripción del sexo del postulante</td>\n",
    "    </tr>\n",
    "    <tr>\n",
    "        <td>IDIOMA</td>\n",
    "        <td>Segunda lengua del estudiante</td>\n",
    "    </tr>\n",
    "    <tr>\n",
    "        <td>LEE</td>\n",
    "        <td>Lee la segunda lengua</td>\n",
    "    </tr>\n",
    "    <tr>\n",
    "        <td>ESCRIBE</td>\n",
    "        <td>Escribe la segunda lengua</td>\n",
    "    </tr>\n",
    "    <tr>\n",
    "        <td>HABLA</td>\n",
    "        <td>Habla la segunda lengua</td>\n",
    "    </tr>\n",
    "    <tr>\n",
    "        <td>TIENE_DISCAPACIDAD</td>\n",
    "        <td>Si el postulante tiene alguna discapacidad</td>\n",
    "    </tr>\n",
    "    <tr>\n",
    "        <td>TIPO_COMUNIDAD</td>\n",
    "        <td>Tipo de comunidad a la cual pertenece el postulante</td>\n",
    "    </tr>\n",
    "    <tr>\n",
    "        <td>COMUNIDAD</td>\n",
    "        <td>Comunidad específica a la cual pertenece el postulante</td>\n",
    "    </tr>\n",
    "</table>\n"
   ]
  },
  {
   "cell_type": "markdown",
   "metadata": {},
   "source": [
    "<div style=\"background-color:#20B2AA; border-radius:10px; padding:15px; box-shadow: 0px 2px 4px rgba(0, 0, 0, 0.1);\">\n",
    "    <h3 style=\"color:#191970;\">📊 Descripción del conjunto de datos</h3>\n",
    "    <p style=\"color:#555555;\">Esta sección proporciona una descripción del conjunto de datos:</p>\n",
    "</div>\n"
   ]
  },
  {
   "cell_type": "code",
   "execution_count": null,
   "metadata": {},
   "outputs": [],
   "source": [
    "# Resumen estadístico de las variables numericas\n",
    "Postulantes.describe()"
   ]
  },
  {
   "cell_type": "markdown",
   "metadata": {},
   "source": [
    "<style>\n",
    "    table {\n",
    "        border-collapse: collapse;\n",
    "        width: 70%;\n",
    "        border: 2px solid #008CBA;\n",
    "        margin-bottom: 20px;\n",
    "    }\n",
    "\n",
    "    th, td {\n",
    "        border: 1px solid #008CBA;\n",
    "        padding: 10px;\n",
    "        text-align: center;\n",
    "    }\n",
    "\n",
    "    th {\n",
    "        background-color: #008CBA;\n",
    "        color: white;\n",
    "    }\n",
    "\n",
    "    h2 {\n",
    "        color: #008CBA;\n",
    "    }\n",
    "\n",
    "    .stats-table {\n",
    "        margin: 0 auto;\n",
    "    }\n",
    "</style>\n",
    "\n",
    "#### <span style=\"color:#008CBA;\">Resumen Estadístico</span>\n",
    "\n",
    "<div class=\"stats-table\">\n",
    "    <table>\n",
    "        <tr>\n",
    "            <th>Variable</th>\n",
    "            <th>count</th>\n",
    "            <th>mean</th>\n",
    "            <th>std</th>\n",
    "            <th>min</th>\n",
    "            <th>25%</th>\n",
    "            <th>50%</th>\n",
    "            <th>75%</th>\n",
    "            <th>max</th>\n",
    "        </tr>\n",
    "        <tr>\n",
    "            <td>FECHA_CORTE</td>\n",
    "            <td>4928.0</td>\n",
    "            <td>20230626.0</td>\n",
    "            <td>0.0</td>\n",
    "            <td>20230626.0</td>\n",
    "            <td>20230626.0</td>\n",
    "            <td>20230626.0</td>\n",
    "            <td>20230626.0</td>\n",
    "            <td>20230626.0</td>\n",
    "        </tr>\n",
    "        <tr>\n",
    "            <td>ANNIO_POSTULACION</td>\n",
    "            <td>4928.00000</td>\n",
    "            <td>2021.13332</td>\n",
    "            <td>1.49930</td>\n",
    "            <td>2019.00000</td>\n",
    "            <td>2020.00000</td>\n",
    "            <td>2021.00000</td>\n",
    "            <td>2023.00000</td>\n",
    "            <td>2023.00000</td>\n",
    "        </tr>\n",
    "        <tr>\n",
    "            <td>UBIGEO</td>\n",
    "            <td>4928.000000</td>\n",
    "            <td>83352.578531</td>\n",
    "            <td>22286.639332</td>\n",
    "            <td>20101.000000</td>\n",
    "            <td>80901.000000</td>\n",
    "            <td>80901.000000</td>\n",
    "            <td>80909.000000</td>\n",
    "            <td>250202.000000</td>\n",
    "        </tr>\n",
    "        <tr>\n",
    "            <td>UBIGEO_ORIGEN</td>\n",
    "            <td>4928.000000</td>\n",
    "            <td>82377.273539</td>\n",
    "            <td>17009.440949</td>\n",
    "            <td>30101.000000</td>\n",
    "            <td>80901.000000</td>\n",
    "            <td>80902.000000</td>\n",
    "            <td>80909.000000</td>\n",
    "            <td>250202.000000</td>\n",
    "        </tr>\n",
    "        <tr>\n",
    "            <td>UBIGEO_IE</td>\n",
    "            <td>4928.000000</td>\n",
    "            <td>83585.048295</td>\n",
    "            <td>21914.275166</td>\n",
    "            <td>20401.000000</td>\n",
    "            <td>80901.000000</td>\n",
    "            <td>80901.000000</td>\n",
    "            <td>80909.000000</td>\n",
    "            <td>250202.000000</td>\n",
    "        </tr>\n",
    "        <tr>\n",
    "            <td>EDAD</td>\n",
    "            <td>4928.000000</td>\n",
    "            <td>20.236810</td>\n",
    "            <td>4.162145</td>\n",
    "            <td>15.000000</td>\n",
    "            <td>18.000000</td>\n",
    "            <td>19.000000</td>\n",
    "            <td>21.000000</td>\n",
    "            <td>67.000000</td>\n",
    "        </tr>\n",
    "        <tr>\n",
    "            <td>PAGO</td>\n",
    "            <td>4928.000000</td>\n",
    "            <td>179.135552</td>\n",
    "            <td>64.030636</td>\n",
    "            <td>0.000000</td>\n",
    "            <td>200.000000</td>\n",
    "            <td>200.000000</td>\n",
    "            <td>200.000000</td>\n",
    "            <td>670.000000</td>\n",
    "        </tr>\n",
    "    </table>\n",
    "</div>\n"
   ]
  },
  {
   "cell_type": "markdown",
   "metadata": {},
   "source": [
    "<div style=\"background-color: #f4f4f4; padding: 20px; border: 1px solid #dcdcdc; border-radius: 5px; font-family: Arial, sans-serif; color: #333;\">\n",
    "  <h3 style=\"color: #1f77b4;\">Observacion de Variables Numéricas:</h3>\n",
    "  \n",
    "  <ul>\n",
    "    <li><strong>FECHA_CORTE:</strong> La columna FECHA_CORTE tiene un valor constante de 20230626, lo que indica que todos los datos en esta columna son del mismo día. &#x1F4C5;</li>\n",
    "    <li><strong>ANNIO_POSTULACION:</strong> El año promedio de proceso de admisión es aproximadamente 2021, con un rango entre 2019 y 2023. &#x1F4C5;</li>\n",
    "    <li><strong>UBIGEO:</strong> Los códigos de ubicación geográfica donde nacieron los postulantes varían significativamente, con un promedio alrededor de 83352.578531. &#x1F4C5;</li>\n",
    "    <li><strong>UBIGEO_ORIGEN:</strong> Los códigos de ubicación geográfica donde viven los postulantes también varían, con un promedio alrededor de 82377.273539. &#x1F4C5;</li>\n",
    "    <li><strong>UBIGEO_IE:</strong> Los códigos de ubicación geográfica donde culminaron sus estudios los postulantes varían, con un promedio alrededor de 83585.048295. &#x1F4C5;</li>\n",
    "    <li><strong>EDAD:</strong> La edad promedio de los postulantes es de aproximadamente 20 años, con un rango entre 15 y 67 años. &#x1F4C5;</li>\n",
    "    <li><strong>PAGO:</strong> El monto promedio de pago que realizaron los postulantes para dar el examen de admisión es de alrededor de 179.135552, con un rango amplio de valores. &#x1F4C5;</li>\n",
    "  </ul>\n",
    "</div>\n"
   ]
  },
  {
   "cell_type": "code",
   "execution_count": null,
   "metadata": {},
   "outputs": [],
   "source": [
    "# Verificar resumen estadístico para variables categóricas\n",
    "resumen_categoricas = Postulantes.describe(include=[\"object\"])\n",
    "\n",
    "# Mostrar el resumen estadístico\n",
    "resumen_categoricas"
   ]
  },
  {
   "cell_type": "markdown",
   "metadata": {},
   "source": [
    "<div style=\"background-color: #f4f4f4; padding: 20px; border: 1px solid #dcdcdc; border-radius: 5px; font-family: Arial, sans-serif; color: #333;\">\n",
    "  <h3 style=\"color: #1f77b4;\">Observacion de Variables Categóricas :</h3>\n",
    "  \n",
    "  <ul>\n",
    "    <li><strong>UUID:</strong> Hay 3748 valores únicos en esta columna. El valor más común (modo) aparece 6 veces. &#x1F4C3;</li>\n",
    "    <li><strong>ESCUELA:</strong> Hay 6 valores únicos en esta columna. La escuela \"INGENIERÍA CIVIL\" es la más común con 1813 apariciones. &#x1F4C3;</li>\n",
    "    <li><strong>MODALIDAD:</strong> Hay 8 valores únicos en esta columna. La modalidad \"ORDINARIO\" es la más común con 2844 apariciones. &#x1F4C3;</li>\n",
    "    <li><strong>DEPARTAMENTO:</strong> Hay 21 valores únicos en esta columna. El departamento \"CUSCO\" es el más común con 4483 apariciones. &#x1F4C3;</li>\n",
    "    <li><strong>PROVINCIA:</strong> Hay 65 valores únicos en esta columna. La provincia \"LA CONVENCIÓN\" es la más común con 3893 apariciones. &#x1F4C3;</li>\n",
    "    <li><strong>DISTRITO:</strong> Hay 204 valores únicos en esta columna. El distrito \"SANTA ANA\" es el más común con 1813 apariciones. &#x1F4C3;</li>\n",
    "    <li><strong>DEPARTAMENTO_ORIGEN:</strong> Hay 12 valores únicos en esta columna. El departamento \"CUSCO\" es el más común con 4742 apariciones. &#x1F4C3;</li>\n",
    "    <li><strong>PROVINCIA_ORIGEN:</strong> Hay 41 valores únicos en esta columna. La provincia \"LA CONVENCIÓN\" es la más común con 4404 apariciones. &#x1F4C3;</li>\n",
    "    <li><strong>DISTRITO_ORIGEN:</strong> Hay 142 valores únicos en esta columna. El distrito \"SANTA ANA\" es el más común con 2008 apariciones. &#x1F4C3;</li>\n",
    "    <li><strong>DEPARTAMENTO_IE:</strong> Hay 15 valores únicos en esta columna. El departamento \"CUSCO\" es el más común con 4609 apariciones. &#x1F4C3;</li>\n",
    "    <li><strong>PROVINCIA_IE:</strong> Hay 46 valores únicos en esta columna. La provincia \"LA CONVENCIÓN\" es la más común con 4057 apariciones. &#x1F4C3;</li>\n",
    "    <li><strong>DISTRITO_IE:</strong> Hay 150 valores únicos en esta columna. El distrito \"SANTA ANA\" es el más común con 1921 apariciones. &#x1F4C3;</li>\n",
    "    <li><strong>SEXO:</strong> Hay 2 valores únicos en esta columna. \"MASCULINO\" es el más común con 2860 apariciones. &#x1F4C3;</li>\n",
    "    <li><strong>IDIOMA:</strong> Hay 9 valores únicos en esta columna. \"Español\" es el más común con 3832 apariciones. &#x1F4C3;</li>\n",
    "    <li><strong>LEE:</strong> Hay 2 valores únicos en esta columna. \"SI\" es el más común con 2844 apariciones. &#x1F4C3;</li>\n",
    "    <li><strong>ESCRIBE:</strong> Hay 2 valores únicos en esta columna. \"SI\" es el más común con 2944 apariciones. &#x1F4C3;</li>\n",
    "    <li><strong>HABLA:</strong> Hay 2 valores únicos en esta columna. \"SI\" es el más común con 3913 apariciones. &#x1F4C3;</li>\n",
    "    <li><strong>TIENE_DISCAPACIDAD:</strong> Hay 2 valores únicos en esta columna. \"NO\" es el más común con 3619 apariciones. &#x1F4C3;</li>\n",
    "    <li><strong>TIPO_COMUNIDAD:</strong> Hay 3 valores únicos en esta columna. \"NINGUNA\" es la más común con 3619 apariciones. &#x1F4C3;</li>\n",
    "    <li><strong>COMUNIDAD:</strong> Hay 5 valores únicos en esta columna. \"NINGUNA\" es la más común con 3619 apariciones. &#x1F4C3;</li>\n",
    "  </ul>\n",
    "</div>\n"
   ]
  },
  {
   "cell_type": "markdown",
   "metadata": {},
   "source": [
    "<div style=\"background-color:#48D1CC; border-radius:10px; padding:15px; box-shadow: 0px 2px 4px rgba(0, 0, 0, 0.1);\">\n",
    "    <h2 style=\"color:#C71585;\">🧮 Verificación de valores nulos</h2>\n",
    "    <p style=\"color:#555555;\">Esta sección muestra la cantidad de valores nulos en el conjunto de datos:</p>\n",
    "</div>\n"
   ]
  },
  {
   "cell_type": "code",
   "execution_count": null,
   "metadata": {},
   "outputs": [],
   "source": [
    "# Cantidad de valores nulos\n",
    "print(Postulantes.isnull().sum())"
   ]
  },
  {
   "cell_type": "markdown",
   "metadata": {},
   "source": [
    "<div style=\"background-color: #f5f5f5; border: 1px solid #dddddd; padding: 10px; border-radius: 5px; font-family: Arial, sans-serif; color: #333333;\">\n",
    "    <p style=\"font-size: 16px; font-weight: bold; color: #ff9900;\">🚫 Valores Nulos en el Conjunto de Datos 🚫</p>\n",
    "    <p>La columna '<span style=\"color: #ff0000;\">IDIOMA</span>' tiene <span style=\"color: #ff0000;\">984</span> valores nulos. Esto significa que hay <span style=\"color: #ff0000;\">984</span> registros en los cuales no se proporcionó información sobre la segunda lengua del estudiante.</p>\n",
    "    <p>Las columnas '<span style=\"color: #ff0000;\">LEE</span>', '<span style=\"color: #ff0000;\">ESCRIBE</span>', '<span style=\"color: #ff0000;\">HABLA</span>', '<span style=\"color: #ff0000;\">TIENE_DISCAPACIDAD</span>', '<span style=\"color: #ff0000;\">TIPO_COMUNIDAD</span>' y '<span style=\"color: #ff0000;\">COMUNIDAD</span>' también tienen <span style=\"color: #ff0000;\">984</span> valores nulos cada una. Esto sugiere que en estos registros, no se proporcionó información sobre si el estudiante lee, escribe, habla una segunda lengua, tiene discapacidad, o sobre su tipo de comunidad y comunidad específica.</p>\n",
    "    En conclusion \n",
    "</div>\n"
   ]
  },
  {
   "cell_type": "markdown",
   "metadata": {},
   "source": [
    "<div style=\"background-color:#48D1CC; border-radius:10px; padding:15px; box-shadow: 0px 2px 4px rgba(0, 0, 0, 0.1);\">\n",
    "    <h3 style=\"color:#191970;\">📊 Porcentaje y Ubicación de valores nulos</h3>\n",
    "    <p style=\"color:#555555;\">En esta sección se presenta el porcentaje de valores nulos por columna y una representación gráfica de la ubicación de los valores faltantes:</p>\n",
    "    <div style=\"display:flex; flex-direction:row; justify-content:space-between;\">\n",
    "        <div style=\"width:45%;\">\n",
    "            <p style=\"color:#333333;\"><strong>Porcentaje de valores nulos:</strong></p>\n",
    "            <ul style=\"color:#333333; padding-left:20px;\">\n",
    "                <li><strong>Columna 'IDIOMA':</strong> 984 valores nulos (20%)</li>\n",
    "                <li><strong>Columna 'LEE':</strong> 984 valores nulos (20%)</li>\n",
    "                <li><strong>Columna 'ESCRIBE':</strong> 984 valores nulos (20%)</li>\n",
    "                <li><strong>Columna 'HABLA':</strong> 984 valores nulos (20%)</li>\n",
    "                <li><strong>Columna 'TIENE_DISCAPACIDAD':</strong> 984 valores nulos (20%)</li>\n",
    "                <li><strong>Columna 'TIPO_COMUNIDAD':</strong> 984 valores nulos (20%)</li>\n",
    "                <li><strong>Columna 'COMUNIDAD':</strong> 984 valores nulos (20%)</li>\n",
    "            </ul>\n",
    "        </div>\n",
    "        <div style=\"width:50%;\">\n",
    "            <p style=\"color:#333333;\"><strong>Ubicación de valores nulos:</strong></p>\n",
    "            <img src=\"../images/newplot.png\" alt=\"Gráfico de Ubicación de Valores Nulos\" style=\"max-width:100%; border: 1px solid #ddd;\">\n",
    "        </div>\n",
    "    </div>\n",
    "</div>\n"
   ]
  },
  {
   "cell_type": "code",
   "execution_count": null,
   "metadata": {},
   "outputs": [],
   "source": [
    "import plotly.express as px\n",
    "import pandas as pd\n",
    "\n",
    "# Crear un DataFrame con los porcentajes de valores nulos por columna\n",
    "null_percentages = (Postulantes.isnull().sum() / len(Postulantes)) * 100\n",
    "null_df = pd.DataFrame(\n",
    "    {\n",
    "        \"Columna\": null_percentages.index,\n",
    "        \"Porcentaje de Valores Nulos\": null_percentages.values,\n",
    "    }\n",
    ")\n",
    "\n",
    "# Gráfico de barras para el porcentaje de valores nulos por columna\n",
    "bar_fig = px.bar(\n",
    "    null_df,\n",
    "    x=\"Columna\",\n",
    "    y=\"Porcentaje de Valores Nulos\",\n",
    "    title=\"Porcentaje de Valores Nulos por Columna\",\n",
    "    labels={\"Porcentaje de Valores Nulos\": \"Porcentaje\"},\n",
    "    template=\"plotly\",\n",
    "    color_discrete_sequence=[\"#1F77B4\"],\n",
    ")\n",
    "bar_fig.update_layout(xaxis_title=\"Columnas\", yaxis_title=\"Porcentaje\")\n",
    "bar_fig.update_xaxes(tickangle=-45, tickfont=dict(size=10))\n",
    "\n",
    "# Gráfico de ubicación de valores faltantes\n",
    "missing_data_fig = px.imshow(\n",
    "    Postulantes.isnull(),\n",
    "    labels=dict(x=\"Columnas\", y=\"Filas\"),\n",
    "    title=\"Ubicación de Valores Faltantes\",\n",
    "    color_continuous_scale=\"Plasma\",\n",
    "    template=\"plotly\",\n",
    "    height=400,\n",
    ")\n",
    "missing_data_fig.update_layout(xaxis_title=\"Columnas\", yaxis_title=\"Filas\")\n",
    "\n",
    "# Mostrar los gráficos\n",
    "bar_fig.show()\n",
    "missing_data_fig.show()"
   ]
  },
  {
   "cell_type": "markdown",
   "metadata": {},
   "source": [
    "<div style=\"border: 2px solid #4CAF50; background-color: #E7F6E7; padding: 10px; border-radius: 5px; font-family: Arial, sans-serif; color: #333;\">\n",
    "    <p style=\"font-size: 18px; font-weight: bold;\">🔍 Conclusión:</p>\n",
    "    <p>Dado que estas columnas están relacionadas con el dominio del segundo idioma y la comunidad del postulante, aquí hay algunas recomendaciones, Ademas casi el 20% del conjunto de datos en las columnas de IDIOMA, LEE, ESCRIBE ... estan vacios, se sugiere:</p>\n",
    "    <ul style=\"list-style-type: disc; margin-left: 20px;\">\n",
    "        <li>Imputar estos valores nulos con la moda o mediana de cada columna (opción más simple).</li>\n",
    "        <li>Reemplazar los valores nulos por una categoría \"No informado\" en cada columna.</li>\n",
    "        <li>Si hay un patrón en los nulos (por ejemplo, mismos postulantes), se podría intentar predecir los valores en base a otras columnas.</li>\n",
    "    </ul>\n",
    "</div>\n"
   ]
  },
  {
   "cell_type": "markdown",
   "metadata": {},
   "source": [
    "<div style=\"background-color:#48D1CC; border-radius:10px; padding:15px; box-shadow: 0px 2px 4px rgba(0, 0, 0, 0.1);\">\n",
    "    <h2 style=\"color:#000080;\">📊 Datos Únicos</h2>\n",
    "    <p style=\"color:#555555;\">En esta sección se presenta la información sobre la cantidad de valores únicos en cada columna del conjunto de datos:</p>\n",
    "</div>\n"
   ]
  },
  {
   "cell_type": "code",
   "execution_count": null,
   "metadata": {},
   "outputs": [],
   "source": [
    "# Cantidad de valores únicos para cada columna\n",
    "print(Postulantes.nunique())"
   ]
  },
  {
   "cell_type": "markdown",
   "metadata": {},
   "source": [
    "<div style=\"background-color: #f5f5f5; border: 1px solid #ddd; padding: 15px; border-radius: 10px;color: black\">\n",
    "    <p style=\"font-size: 18px; color: #2E86C1;\">Análisis de la Cantidad de Valores Únicos por Columna</p>\n",
    "    <p>El análisis de la cantidad de valores únicos en cada columna proporciona una visión valiosa sobre la diversidad y variabilidad en el conjunto de datos <strong>Postulantes</strong>:</p>    \n",
    "    <ul>\n",
    "        <li>Hay 1 <strong>Fecha_Corte</strong>, lo que sugiere eliminar esta variable ya que no aporta información significativa.</li>\n",
    "        <li>Hay 3748 <strong>UUIDs</strong> únicos, lo que indica múltiples identificadores de postulantes.</li>\n",
    "        <li>Las columnas de <strong>ubicación geográfica</strong> tienen diferentes cantidades de valores únicos, reflejando la diversidad de ubicaciones de origen y educación.</li>\n",
    "        <li>Existen <strong>varias escuelas profesionales y modalidades</strong> de postulación.</li>\n",
    "        <li>Los años de <strong>postulación</strong> presentan 5 valores únicos, lo que podría indicar distintos años de procesos.</li>\n",
    "        <li>La <strong>edad</strong> de los postulantes varía en 37 valores únicos, señalando diversidad de edades.</li>\n",
    "        <li>El <strong>género</strong> de los postulantes es predominantemente binario.</li>\n",
    "        <li>Las habilidades, discapacidades y pertenencia a <strong>comunidades</strong> tienen opciones binarias y algunas categorías.</li>\n",
    "        <li>Las columnas <strong>IDIOMA</strong> y <strong>PAGO</strong> presentan múltiples opciones.</li>\n",
    "    </ul> \n",
    "    <p>Este análisis es crucial para comprender la distribución y naturaleza de los datos, lo que guía las decisiones en el procesamiento y análisis subsiguiente.</p>\n",
    "</div>\n"
   ]
  },
  {
   "cell_type": "markdown",
   "metadata": {},
   "source": [
    "### Eliminar la columna 'Fecha_Corte' del conjutno de datos Postulantes\n"
   ]
  },
  {
   "cell_type": "code",
   "execution_count": null,
   "metadata": {
    "tags": []
   },
   "outputs": [],
   "source": [
    "# Eliminar la columna 'Fecha_Corte'\n",
    "Postulantes = Postulantes.drop(columns=['FECHA_CORTE'])\n",
    "\n",
    "# Mostrar el conjunto de datos después de eliminar la columna\n",
    "Postulantes.head()\n"
   ]
  },
  {
   "cell_type": "markdown",
   "metadata": {},
   "source": [
    "### Grafico Circular del conjunto de datos Postulanets\n"
   ]
  },
  {
   "cell_type": "code",
   "execution_count": null,
   "metadata": {},
   "outputs": [],
   "source": [
    "from dash import Dash, html, dcc, callback, Output, Input\n",
    "import pandas as pd\n",
    "import plotly.express as px\n",
    "\n",
    "# Inicializar la aplicación\n",
    "app = Dash(__name__)\n",
    "\n",
    "\n",
    "# Excluir la columna 'UUID'\n",
    "excluded_columns = [\"UUID\"]\n",
    "columns_for_dropdown = [\n",
    "    col for col in Postulantes.columns if col not in excluded_columns\n",
    "]\n",
    "\n",
    "# Diseño de la aplicación\n",
    "app.layout = html.Div(\n",
    "    style={\"textAlign\": \"center\", \"padding\": \"20px\"},\n",
    "    children=[\n",
    "        html.H1(\"Gráfico Circular Interactivo\", style={\"color\": \"#2E86C1\"}),\n",
    "        html.Hr(),\n",
    "        dcc.Dropdown(\n",
    "            id=\"dropdown-column\",\n",
    "            options=[{\"label\": col, \"value\": col} for col in columns_for_dropdown],\n",
    "            value=\"ESCUELA\",\n",
    "            multi=False,\n",
    "            style={\"width\": \"50%\", \"margin\": \"auto\"},\n",
    "        ),\n",
    "        dcc.Graph(id=\"pie-chart\", style={\"margin-top\": \"20px\"}),\n",
    "    ],\n",
    ")\n",
    "\n",
    "\n",
    "# Definir la función de devolución de llamada\n",
    "@callback(\n",
    "    Output(component_id=\"pie-chart\", component_property=\"figure\"),\n",
    "    Input(component_id=\"dropdown-column\", component_property=\"value\"),\n",
    ")\n",
    "def update_pie_chart(selected_column):\n",
    "    pie_data = Postulantes[selected_column].value_counts()\n",
    "    fig = px.pie(\n",
    "        pie_data,\n",
    "        names=pie_data.index,\n",
    "        values=pie_data.values,\n",
    "        title=f\"Distribución de {selected_column}\",\n",
    "        hole=0.3,\n",
    "    )\n",
    "    fig.update_layout(\n",
    "        plot_bgcolor=\"#F9F9F9\",  # Color de fondo del gráfico\n",
    "        paper_bgcolor=\"#F9F9F9\",  # Color de fondo del área de trazado\n",
    "        font_color=\"#333333\",  # Color de fuente\n",
    "    )\n",
    "    return fig\n",
    "\n",
    "\n",
    "app.run_server(debug=True)"
   ]
  },
  {
   "cell_type": "markdown",
   "metadata": {},
   "source": [
    "<div style=\"background-color:#48D1CC; border-radius:10px; padding:15px; box-shadow: 0px 2px 4px rgba(0, 0, 0, 0.1);\">\n",
    "    <h2 style=\"color:#000080;\">📋 Datos Duplicados</h2>\n",
    "    <p style=\"color:#555555;\">En esta sección se analiza la presencia de datos duplicados en el conjunto de datos:</p>\n",
    "    <p style=\"color:#555555;\"><strong>Total de registros duplicados:</strong> 2075</p>\n",
    "    <p style=\"color:#555555;\">La duplicación de UUIDs podría indicar que algunos postulantes realizaron múltiples intentos de admisión.</p>\n",
    "</div>"
   ]
  },
  {
   "cell_type": "markdown",
   "metadata": {},
   "source": [
    "<div style=\"background-color:#f2f2f2; border-radius:10px; padding:15px; box-shadow: 0px 2px 4px rgba(0, 0, 0, 0.1);\">\n",
    "    <h3 style=\"color:#2E86C1;\">Verificación de Valores Duplicados</h3>\n",
    "    <p style=\"color:#555555;\">En esta sección se verifica la presencia de valores nulos en el dataset 'Postulantes':</p>\n",
    "    <pre style=\"color:#555555; background-color:#ffffff; padding:10px; border:1px solid #dddddd; border-radius:5px;\">\n",
    "    Cantidad de filas duplicadas: 0 </pre>\n",
    "</div>\n"
   ]
  },
  {
   "cell_type": "code",
   "execution_count": null,
   "metadata": {},
   "outputs": [],
   "source": [
    "duplicates_count = Postulantes.duplicated().sum()\n",
    "print(\"Cantidad de filas duplicadas:\", duplicates_count)"
   ]
  },
  {
   "cell_type": "markdown",
   "metadata": {},
   "source": [
    "<div style=\"background-color:#f2f2f2; border-radius:10px; padding:15px; box-shadow: 0px 2px 4px rgba(0, 0, 0, 0.1);\">\n",
    "    <h3 style=\"color:#2E86C1;\">Observación</h3>\n",
    "    <ul style=\"color:#555555; list-style-type:square; padding-left:20px;\">\n",
    "        <li>No se observan datos faltantes en el dataset de <strong>Postulantes</strong>.</li>\n",
    "        <li>Sin embargo,</li>\n",
    "        <li>La variable <strong>UUID</strong> tiene 3748 registros únicos, sin embargo debería tener 4928 (Total de filas del dataset).</li>\n",
    "        <li>Vamos a verificar cuáles son los datos que se duplican y por qué se duplican.</li>\n",
    "    </ul>\n",
    "</div>\n"
   ]
  },
  {
   "cell_type": "markdown",
   "metadata": {},
   "source": [
    "<div style=\"background-color:#f2f2f2; border-radius:10px; padding:15px; box-shadow: 0px 2px 4px rgba(0, 0, 0, 0.1);\">\n",
    "    <h3 style=\"color:#2E86C1;\">Verificamos datos faltantes de la variable UUIDs\n",
    "</h3>\n",
    "</div>\n"
   ]
  },
  {
   "cell_type": "markdown",
   "metadata": {},
   "source": [
    "### Verificamos datos faltantes de la variable UUIDs\n"
   ]
  },
  {
   "cell_type": "code",
   "execution_count": null,
   "metadata": {},
   "outputs": [],
   "source": [
    "duplicated_uuids = Postulantes[Postulantes[\"UUID\"].duplicated(keep=False)]\n",
    "duplicated_uuid_counts = duplicated_uuids[\"UUID\"].value_counts()\n",
    "\n",
    "print(\"Registros duplicados en la variable UUID:\")\n",
    "\n",
    "print(\"Cantidad de filas duplicadas:\", duplicated_uuids.shape[0])"
   ]
  },
  {
   "cell_type": "markdown",
   "metadata": {},
   "source": [
    "<style>\n",
    "  .observation-box {\n",
    "    border: 2px solid #3498db;\n",
    "    background-color: #f0f0f0;\n",
    "    padding: 10px;\n",
    "    margin-bottom: 15px;\n",
    "    font-family: Arial, sans-serif;\n",
    "    color: black\n",
    "  }\n",
    "  .emoji {\n",
    "    font-size: 18px;\n",
    "    margin-right: 5px;\n",
    "  }\n",
    "</style>\n",
    "\n",
    "<div class=\"observation-box\">\n",
    "  <p><span class=\"emoji\">🔍</span> Observación</p>\n",
    "  <ul>\n",
    "    <li>En total, se identificaron <strong>2075 filas duplicadas</strong> en la columna 'UUID'.</li>\n",
    "    <li>La duplicación de UUIDs podría indicar que algunos postulantes realizaron <strong>múltiples intentos de admisión</strong>.</li>\n",
    "    <li>Para confirmar esta hipótesis se analizó más a fondo los datos relacionados con los postulantes duplicados.</li>\n",
    "  </ul>\n",
    "</div>\n"
   ]
  },
  {
   "cell_type": "markdown",
   "metadata": {},
   "source": [
    "### Grafico de Correlacion de datos de la columna UUID\n"
   ]
  },
  {
   "cell_type": "code",
   "execution_count": null,
   "metadata": {},
   "outputs": [],
   "source": [
    "from dash import Dash, html, dcc, callback, Output, Input\n",
    "import pandas as pd\n",
    "import plotly.express as px\n",
    "\n",
    "# Inicializar la aplicación\n",
    "app = Dash(__name__)\n",
    "\n",
    "# Excluir la columna 'UUID'\n",
    "excluded_columns = [\"UUID\"]\n",
    "columns_for_dropdown = [\n",
    "    col for col in duplicated_uuids.columns if col not in excluded_columns\n",
    "]\n",
    "\n",
    "# Diseño de la aplicación\n",
    "app.layout = html.Div(\n",
    "    style={\"textAlign\": \"center\", \"padding\": \"20px\"},\n",
    "    children=[\n",
    "        html.H1(\"Gráfico de Correlación Interactivo\", style={\"color\": \"#2E86C1\"}),\n",
    "        html.Hr(),\n",
    "        dcc.Dropdown(\n",
    "            id=\"dropdown-column\",\n",
    "            options=[{\"label\": col, \"value\": col} for col in columns_for_dropdown],\n",
    "            value=\"ESCUELA\",\n",
    "            multi=False,\n",
    "            style={\"width\": \"50%\", \"margin\": \"auto\"},\n",
    "        ),\n",
    "        dcc.Graph(id=\"correlation-plot\", style={\"margin-top\": \"20px\"}),\n",
    "    ],\n",
    ")\n",
    "\n",
    "\n",
    "# Definir la función de devolución de llamada\n",
    "@callback(\n",
    "    Output(component_id=\"correlation-plot\", component_property=\"figure\"),\n",
    "    Input(component_id=\"dropdown-column\", component_property=\"value\"),\n",
    ")\n",
    "def update_correlation_plot(selected_column):\n",
    "    corr_data = duplicated_uuids[[\"UUID\", selected_column]].head(20)\n",
    "    fig = px.scatter(\n",
    "        corr_data,\n",
    "        x=\"UUID\",\n",
    "        y=selected_column,\n",
    "        title=f\"Correlación entre UUID y {selected_column}\",\n",
    "    )\n",
    "    fig.update_layout(\n",
    "        plot_bgcolor=\"#F9F9F9\",  # Color de fondo del gráfico\n",
    "        paper_bgcolor=\"#F9F9F9\",  # Color de fondo del área de trazado\n",
    "        font_color=\"#333333\",  # Color de fuente\n",
    "    )\n",
    "    return fig\n",
    "\n",
    "\n",
    "# Ejecutar la aplicación\n",
    "app.run_server(debug=True)"
   ]
  },
  {
   "cell_type": "code",
   "execution_count": null,
   "metadata": {},
   "outputs": [],
   "source": [
    "# Filtrar el DataFrame por el postulante con código UUID deseado\n",
    "filtered_data = Postulantes[Postulantes[\"UUID\"] == \"90a0f9\"]\n",
    "\n",
    "# Mostrar todas las filas filtradas\n",
    "filtered_data"
   ]
  },
  {
   "cell_type": "markdown",
   "metadata": {},
   "source": [
    "<style>\n",
    "  .analysis-container {\n",
    "    background-color: #f4f4f4;\n",
    "    border: 1px solid #ccc;\n",
    "    padding: 20px;\n",
    "    margin: 20px 0;\n",
    "    border-radius: 5px;\n",
    "    color: black;\n",
    "  }\n",
    "\n",
    "  .highlight {\n",
    "    background-color: #ffc107;\n",
    "    padding: 2px;\n",
    "    border-radius: 1px;\n",
    "  }\n",
    "</style>\n",
    "\n",
    "<div class=\"analysis-container\">\n",
    "  <h3>Análisis de Duplicación de Postulante</h3>\n",
    "  <p>El resultado indica que el postulante con el código UUID \"90a0f9\" ha realizado dos postulaciones:</p>\n",
    "  <ol>\n",
    "    <li>Primera Postulación:</li>\n",
    "    <ul>\n",
    "      <li>Programa: <span class=\"highlight\">Ingeniería Civil</span></li>\n",
    "      <li>Modalidad: <span class=\"highlight\">Primera Oportunidad para Estudiantes del Quinto de Secundaria</span></li>\n",
    "      <li>Año de Postulación: <span class=\"highlight\">2020</span></li>\n",
    "      <li>Ubicación: <span class=\"highlight\">Cusco, La Convención, Santa Ana</span></li>\n",
    "    </ul>\n",
    "    <li>Segunda Postulación:</li>\n",
    "    <ul>\n",
    "      <li>Programa: <span class=\"highlight\">Ingeniería Agronómica Tropical</span></li>\n",
    "      <li>Modalidad: <span class=\"highlight\">Ordinario</span></li>\n",
    "      <li>Año de Postulación: <span class=\"highlight\">2020</span></li>\n",
    "      <li>Ubicación: <span class=\"highlight\">Cusco, La Convención, Santa Ana</span></li>\n",
    "    </ul>\n",
    "  </ol>\n",
    "  <p>Esta duplicación de postulaciones podría sugerir que el postulante intentó ingresar a diferentes programas utilizando distintas modalidades de postulación en el mismo año.</p>\n",
    "</div>\n"
   ]
  },
  {
   "cell_type": "markdown",
   "metadata": {},
   "source": [
    "<style>\n",
    "  .note-container {\n",
    "    background-color: #f0f8ff;\n",
    "    padding: 20px;\n",
    "    border-radius: 10px;\n",
    "    border: 1px solid #a3c2c2;\n",
    "    color: black;\n",
    "  }\n",
    "  .conclusion {\n",
    "    background-color: #e6f7ff;\n",
    "    padding: 20px;\n",
    "    border-radius: 10px;\n",
    "    border: 1px solid #a3c2c2;\n",
    "    color: black;\n",
    "  }\n",
    "</style>\n",
    "\n",
    "<div class=\"note-container\">\n",
    "  <h3>📝 Análisis de Datos Duplicados en el Conjunto de Datos 'Postulantes'</h3>\n",
    "  <p>En base a los datos proporcionados, se identificaron registros duplicados en la columna 'UUID' del conjunto de datos 'Postulantes'. Esto sugiere que algunos postulantes realizaron múltiples intentos de admisión, lo cual es una hipótesis plausible dada la naturaleza de los procesos de admisión y las oportunidades para mejorar los resultados.</p>\n",
    "</div>\n",
    "\n",
    "<div class=\"conclusion\">\n",
    "  <h3>🔍 Conclusiones</h3>\n",
    "  <p>Después de un análisis más detenido, la decisión tomada es eliminar los datos duplicados mientras se conserva la última postulación realizada por cada postulante. Esto implica que se retendrá únicamente la última fila para cada UUID, lo que representa el último intento registrado por cada individuo.</p>\n",
    "  <p>Esta acción tiene sentido para mantener la integridad y la precisión de los datos. Conservar solo la última postulación ayudará a evitar posibles incoherencias y redundancias en el conjunto de datos.</p>\n",
    "</div>\n"
   ]
  },
  {
   "cell_type": "code",
   "execution_count": null,
   "metadata": {},
   "outputs": [],
   "source": [
    "# Eliminar duplicados conservando la última postulación de cada postulante\n",
    "postulantes_unicos = Postulantes.drop_duplicates(subset=\"UUID\", keep=\"last\")\n",
    "\n",
    "# Mostrar el tamaño del conjunto de datos original 'Postulantes'\n",
    "print(\"Tamaño del conjunto de datos original 'Postulantes':\", Postulantes.shape)\n",
    "\n",
    "# Mostrar el tamaño del conjunto de datos 'postulantes_sin_duplicados'\n",
    "print(\"Tamaño del conjunto de datos 'postulantes_unicos':\", postulantes_unicos.shape)"
   ]
  },
  {
   "cell_type": "markdown",
   "metadata": {},
   "source": [
    "<div style=\"background-color:#f7f7f7; border-radius:10px; padding:20px;color:black\">\n",
    "\n",
    "### Análisis de Datos - Eliminación de Duplicados\n",
    "\n",
    "En base a los datos duplicados en el conjunto de datos de los postulantes, se realizó un proceso de limpieza para conservar únicamente la última postulación realizada por cada postulante. Esto se logró mediante la eliminación de duplicados y la retención de la última fila correspondiente a cada UUID.\n",
    "\n",
    "**Tamaño del conjunto de datos original 'Postulantes':** (4928, 27)\n",
    "\n",
    "**Tamaño del conjunto de datos 'postulantes_unicos' después de eliminar duplicados:** (3748, 27)\n",
    "\n",
    "El objetivo de esta acción es asegurarse de que solo se conserve la información más reciente de cada postulante, eliminando registros duplicados que podrían haber sido causados por múltiples intentos de admisión.\n",
    "\n",
    "</div>\n"
   ]
  },
  {
   "cell_type": "markdown",
   "metadata": {},
   "source": [
    "<div style=\"background-color:#48D1CC; border-radius:10px; padding:15px; box-shadow: 0px 2px 4px rgba(0, 0, 0, 0.1);\">\n",
    "    <h2 style=\"color:#000080;\">📋 Convercion de tipos de datos</h2>\n",
    "    <p style=\"color:#555555;\">En esta sección se convertiran los datos al formato adecuado</p>\n",
    "</div>"
   ]
  },
  {
   "cell_type": "code",
   "execution_count": null,
   "metadata": {},
   "outputs": [],
   "source": [
    "# Convertir la columna PAGO al tipo de dato de flotante\n",
    "postulantes_unicos.loc[:, \"PAGO\"] = postulantes_unicos[\"PAGO\"].astype(float)"
   ]
  },
  {
   "cell_type": "code",
   "execution_count": null,
   "metadata": {
    "tags": []
   },
   "outputs": [],
   "source": [
    "postulantes_unicos.head()"
   ]
  },
  {
   "cell_type": "code",
   "execution_count": null,
   "metadata": {},
   "outputs": [],
   "source": [
    "filas = len(postulantes_unicos.columns)\n",
    "filas"
   ]
  },
  {
   "cell_type": "code",
   "execution_count": null,
   "metadata": {
    "tags": []
   },
   "outputs": [],
   "source": [
    "# Guardar en un archivo CSV\n",
    "postulantes_unicos.to_csv('../data/postulantes_unicos.csv', index=False)  # El argumento 'index=False' evita guardar el índice del DataFrame"
   ]
  },
  {
   "cell_type": "markdown",
   "metadata": {
    "tags": []
   },
   "source": [
    "## Conclusiones de la Exploracion de Datos"
   ]
  },
  {
   "cell_type": "markdown",
   "metadata": {},
   "source": [
    "# <a id=\"1\"><font size=\"6\"><div style=\"border-radius:5px;color:white;background-color:#FA8072;\"> 4. EDA Analisis y Exploracion del conjunto de datos 📊 </div> </font>\n",
    "</a>\n",
    "<div align=\"center\" style=\"border: 2px solid #E57373; border-radius: 10px; padding: 20px; background-color: #E3F2FD;\">\n",
    "    <a href=\"[about:blank](https://www.analyticsvidhya.com/blog/2018/04/introduction-to-graph-theory-network-analysis-python-codes/)\" target=\"_blank\">\n",
    "        <img src=\"../images/eda.png\" alt=\"Red de Nodos\" style=\"border-radius: 5px; max-width: 80%; box-shadow: 5px 5px 10px rgba(0, 0, 0, 0.2);\">\n",
    "    </a>\n",
    "    <p style=\"font-size: 16px; color: #0a0a0a; margin-top: 10px;\">\n",
    "        <em> <strong>EDA</strong>:\n",
    "        ¡Imágenes, gráficos y más imágenes!</em>\n",
    "    </p>\n",
    "</div>"
   ]
  },
  {
   "cell_type": "markdown",
   "metadata": {},
   "source": [
    "## A) VARIABLE ESCUELA\n"
   ]
  },
  {
   "cell_type": "markdown",
   "metadata": {},
   "source": [
    "### **Descripción**\n"
   ]
  },
  {
   "cell_type": "code",
   "execution_count": null,
   "metadata": {},
   "outputs": [],
   "source": [
    "postulantes_unicos[\"ESCUELA\"].describe()"
   ]
  },
  {
   "cell_type": "markdown",
   "metadata": {
    "tags": []
   },
   "source": [
    "<div style=\"background-color: #f5f5f5; border: 1px solid #ddd; padding: 15px; border-radius: 10px;color: black\">\n",
    "    <p style=\"font-size: 18px; color: #2E86C1;\">Observaciones sobre la Variable \"ESCUELA\"</p>\n",
    "    <p>Al analizar la columna <strong>ESCUELA</strong> en el conjunto de datos <strong>postulantes_unicos</strong>, se obtienen las siguientes observaciones:</p>\n",
    "    <ul>\n",
    "        <li>En total, existen <strong>3748</strong> registros en la columna, lo que sugiere que hay 3748 postulantes únicos en el conjunto de datos.</li>\n",
    "        <li>La columna presenta <strong>6</strong> valores únicos, indicando que hay 6 escuelas profesionales distintas a las que los postulantes han aplicado.</li>\n",
    "        <li>La escuela más frecuente entre los postulantes es <strong>INGENIERÍA CIVIL</strong>, con un total de <strong>1305</strong> apariciones.</li>\n",
    "        <li>La frecuencia más alta corresponde a la escuela <strong>INGENIERÍA CIVIL</strong>, que aparece en <strong>1305</strong> registros.</li>\n",
    "    </ul>\n",
    "    <p>Estas observaciones resaltan la preferencia de los postulantes por la escuela de <strong>INGENIERÍA CIVIL</strong> y proporcionan una visión de la distribución de las preferencias de escuelas entre los postulantes únicos.</p>\n",
    "</div>"
   ]
  },
  {
   "cell_type": "markdown",
   "metadata": {
    "tags": []
   },
   "source": [
    "### **GRAFICO DE BARRAS**\n"
   ]
  },
  {
   "cell_type": "code",
   "execution_count": null,
   "metadata": {},
   "outputs": [],
   "source": [
    "# Contar la frecuencia de cada valor en la columna 'ESCUELA'\n",
    "escuela_counts = postulantes_unicos[\"ESCUELA\"].value_counts()\n",
    "\n",
    "# Calcular los porccentajes\n",
    "total_escuelas = len(\n",
    "    postulantes_unicos[\"ESCUELA\"]\n",
    ")  # Usamos Postulantes en lugar de data\n",
    "porcentajes = (escuela_counts / total_escuelas) * 100\n",
    "\n",
    "# Crear las etiquetas con porcentajes\n",
    "etiquetas = [\n",
    "    f\"{escuela} ({porcentaje:.2f} %)\"\n",
    "    for escuela, porcentaje in zip(escuela_counts.index, porcentajes)\n",
    "]\n",
    "\n",
    "# Crear una paleta de colores usando seaborn\n",
    "colors = [\n",
    "    \"hsl(\" + str(h) + \",50%\" + \",50%)\" for h in np.linspace(0, 360, len(escuela_counts))\n",
    "]\n",
    "\n",
    "# Crear el gráfico de barras\n",
    "trace = go.Bar(\n",
    "    x=etiquetas,  # Usamos las etiquetas con porcentajes como nombres de las barras\n",
    "    y=escuela_counts.values,  # Frecuencia de cada escuela\n",
    "    marker=dict(color=colors),  # Color de las barras\n",
    ")\n",
    "\n",
    "layout = go.Layout(\n",
    "    title=\"Distribución de Escuelas\",\n",
    "    xaxis=dict(title=\"Escuela\"),\n",
    "    yaxis=dict(title=\"Frecuencia\"),\n",
    "    paper_bgcolor=\"rgb(243, 243, 243)\",\n",
    "    plot_bgcolor=\"rgb(243, 243, 243)\",\n",
    ")\n",
    "\n",
    "# Crear la figura y trazar el gráfico\n",
    "fig = go.Figure(data=[trace], layout=layout)\n",
    "py.iplot(fig)"
   ]
  },
  {
   "cell_type": "markdown",
   "metadata": {},
   "source": [
    "**OBSERVACIONES:**\n",
    "\n",
    "- Se puede observar que las carreras mas populares son INGENIERIA CIVIL y INGENIERIA AGRONOMICA TROPICAL\n",
    "entre los postulantes, mientras que CONTABILIDAD es la escuela con el menor número de postulantes.\n",
    "\n",
    "- En base a esto podemos decir que para codificar esta variable podemos considerar lo siguiente:\n"
   ]
  },
  {
   "cell_type": "markdown",
   "metadata": {
    "tags": []
   },
   "source": [
    "### **Grafico de Dispersion de la Variable Escuela**"
   ]
  },
  {
   "cell_type": "code",
   "execution_count": null,
   "metadata": {
    "tags": []
   },
   "outputs": [],
   "source": [
    "from dash import Dash, html, dcc, callback, Output, Input\n",
    "import pandas as pd\n",
    "import plotly.express as px\n",
    "\n",
    "# Inicializar la aplicación\n",
    "app = Dash(__name__)\n",
    "\n",
    "# Excluir la columna 'ESCUELA'\n",
    "excluded_columns = [\"ESCUELA\"]\n",
    "columns_for_dropdown = [\n",
    "    col for col in postulantes_unicos.columns if col not in excluded_columns\n",
    "]\n",
    "\n",
    "# Diseño de la aplicación\n",
    "app.layout = html.Div(\n",
    "    style={\"textAlign\": \"center\", \"padding\": \"20px\"},\n",
    "    children=[\n",
    "        html.H1(\"Gráfico de Dispersión Interactivo\", style={\"color\": \"#2E86C1\"}),\n",
    "        html.Hr(),\n",
    "        dcc.Dropdown(\n",
    "            id=\"dropdown-column\",\n",
    "            options=[{\"label\": col, \"value\": col} for col in columns_for_dropdown],\n",
    "            value=columns_for_dropdown[0],  # Escoge la primera columna por defecto\n",
    "            multi=False,\n",
    "            style={\"width\": \"50%\", \"margin\": \"auto\"},\n",
    "        ),\n",
    "        dcc.Graph(id=\"scatter-plot\", style={\"margin-top\": \"20px\"}),\n",
    "    ],\n",
    ")\n",
    "\n",
    "# Definir la función de devolución de llamada\n",
    "@callback(\n",
    "    Output(component_id=\"scatter-plot\", component_property=\"figure\"),\n",
    "    Input(component_id=\"dropdown-column\", component_property=\"value\"),\n",
    ")\n",
    "def update_scatter_plot(selected_column):\n",
    "    scatter_data = postulantes_unicos[[selected_column, \"ESCUELA\"]]\n",
    "    fig = px.scatter(\n",
    "        scatter_data,\n",
    "        x=selected_column,\n",
    "        y=\"ESCUELA\",\n",
    "        title=f\"Gráfico de Dispersión: {selected_column} vs ESCUELA\",\n",
    "    )\n",
    "    fig.update_layout(\n",
    "        plot_bgcolor=\"#F9F9F9\",  # Color de fondo del gráfico\n",
    "        paper_bgcolor=\"#F9F9F9\",  # Color de fondo del área de trazado\n",
    "        font_color=\"#333333\",  # Color de fuente\n",
    "    )\n",
    "    return fig\n",
    "\n",
    "# Ejecutar la aplicación\n",
    "app.run_server(debug=True)\n"
   ]
  },
  {
   "cell_type": "markdown",
   "metadata": {},
   "source": [
    "- UUID -> Frecuencia de postulantes de IC -> [1305]\n",
    "- MODALIDAD -> Frecuencia de MOdalidades IC -> [7]\n",
    "- AÑO_POSTULACION -> Frecuencia de Año -> [5]\n"
   ]
  },
  {
   "cell_type": "markdown",
   "metadata": {
    "tags": []
   },
   "source": [
    "**OBSERVACIONES: **\n",
    "\n",
    "UUID\n",
    "- Hay mas postulantes que se presentaron para Ingenieria Civil \n",
    "- Hay menos postulantes que se presentaron para Economia y Contabilidad\n",
    "MODALIDAD\n",
    "- Unicamente los postulantes de la modalidad ORDINARIO se presentaron a CONTABILIDAD y ECONOMIA\n",
    "(En general se presnetarona a todas)\n",
    "- La unica modalidad que no se presento a ECOTURISMO es EXTRAORDINARIO-GRADUADOS Y TITULADOS\n",
    "AÑO DE POSTULACION\n",
    "- Al parecer se añadio una nueva carrera de ECONOMIA Y CONTABILIDAD en el 2023 porque solo en este \n",
    "año hubo postulantes para esta carrera \n",
    "\n",
    "UBIGEO, DEPARTAMENTO, PROVINCIA Y DISTRITO\n",
    "- Hay varios postulantes de diferenets lugares que postularon a diferentes escuelas\n",
    "\n",
    "EDAD:\n",
    "- hay una persona con 67 años de edad esto podria ser un dato atipico\n",
    "SEXO:\n",
    "- Hay mujeres y varones que psotularon para cada una de las escuelas\n",
    "\n",
    "PAGO:\n",
    "- Hay datos atipicos de 670(ingerieria de alimentos y Civil) y de pago 0(menos en econimia y contabilidad) \n",
    "\n",
    "\n"
   ]
  },
  {
   "cell_type": "markdown",
   "metadata": {},
   "source": [
    "### **Diagrama de Cajas de ESCUELA y PAGO**\n"
   ]
  },
  {
   "cell_type": "code",
   "execution_count": null,
   "metadata": {},
   "outputs": [],
   "source": [
    "import plotly.graph_objs as go\n",
    "import plotly.offline as py\n",
    "\n",
    "# Crear una lista de trazas de cajasC para cada escuela\n",
    "data_traces = []\n",
    "for escuela in postulantes_unicos[\"ESCUELA\"].unique():\n",
    "    trace = go.Box(\n",
    "        y=postulantes_unicos[postulantes_unicos[\"ESCUELA\"] == escuela][\n",
    "            \"PAGO\"\n",
    "        ],  # Valores a graficar (en este caso, la columna PAGO)\n",
    "        name=escuela,  # Etiqueta de la caja (escuela)\n",
    "    )\n",
    "    data_traces.append(trace)\n",
    "\n",
    "layout = go.Layout(\n",
    "    title=\"Diagrama de Cajas por Escuela Profesional\",\n",
    "    xaxis=dict(title=\"Escuela Profesional\"),\n",
    "    yaxis=dict(title=\"Pago\"),\n",
    "    paper_bgcolor=\"rgb(243, 243, 243)\",\n",
    "    plot_bgcolor=\"rgb(243, 243, 243)\",\n",
    ")\n",
    "\n",
    "# Crear la figura y trazar el gráfico\n",
    "fig = go.Figure(data=data_traces, layout=layout)\n",
    "py.iplot(fig)"
   ]
  },
  {
   "cell_type": "markdown",
   "metadata": {},
   "source": [
    "**Observaciones**\n",
    "\n",
    "- Datos atipicos\n",
    "- Datos donde el costo es 0 (Este dato atipico no es muy evidente por lo tanto lo conservamos)\n",
    "- Datos donde el apgo es 670(Este si e sun dato atipico evidente devido que esta muy alejado del valor medio estandar)\n"
   ]
  },
  {
   "cell_type": "markdown",
   "metadata": {},
   "source": [
    "**VALORES ATIPICOS PAGO = 670**\n"
   ]
  },
  {
   "cell_type": "code",
   "execution_count": null,
   "metadata": {},
   "outputs": [],
   "source": [
    "# Crear un nuevo DataFrame con las filas donde PAGO es igual a cero\n",
    "postulantes_con_pago_atipico = postulantes_unicos[postulantes_unicos[\"PAGO\"] == 670]\n",
    "\n",
    "# Mostrar las primeras filas del nuevo DataFrame\n",
    "postulantes_con_pago_atipico.shape[0]"
   ]
  },
  {
   "cell_type": "markdown",
   "metadata": {},
   "source": [
    "**Distribución de Postulantes con PAGO=670**\n"
   ]
  },
  {
   "cell_type": "code",
   "execution_count": null,
   "metadata": {},
   "outputs": [],
   "source": [
    "import seaborn as sns\n",
    "import matplotlib.pyplot as plt\n",
    "\n",
    "# Configuración de estilo de Seaborn\n",
    "sns.set(style=\"whitegrid\")\n",
    "\n",
    "# Crear un gráfico de barras utilizando 'ESCUELA' en el eje x y 'DISTRITO' en el eje y\n",
    "plt.figure(figsize=(10, 6))\n",
    "sns.countplot(data=postulantes_con_pago_atipico, x=\"ESCUELA\", hue=\"MODALIDAD\")\n",
    "plt.xticks(rotation=90)\n",
    "plt.title(\"Distribución de Postulantes con PAGO=670 por Escuela y MOdalidad\")\n",
    "plt.xlabel(\"Escuela Profesional\")\n",
    "plt.ylabel(\"Cantidad de Postulantes\")\n",
    "plt.legend(title=\"Modalidad\", loc=\"upper right\")\n",
    "plt.tight_layout()\n",
    "plt.show()"
   ]
  },
  {
   "cell_type": "markdown",
   "metadata": {},
   "source": [
    "**OBSERVACION**\n",
    "- Los postulantes que pagan 670 son de la modalidad ETRAORDINARIO-GRADUADOS Y TITULADOS\n",
    "\n",
    "- Sin embargo Existen UNICAMENTE 8 datos atipicos con pago igual a 670, por lo tanto estos datos es mejor de eliminarlos del conjunto de datos\n"
   ]
  },
  {
   "cell_type": "markdown",
   "metadata": {},
   "source": [
    "### **Eliminacion de outlayers de la variable PAGO**\n"
   ]
  },
  {
   "cell_type": "code",
   "execution_count": null,
   "metadata": {
    "tags": []
   },
   "outputs": [],
   "source": [
    "# Crear un nuevo DataFrame sin las filas donde PAGO es igual a 670\n",
    "postulantes_unicos = postulantes_unicos[postulantes_unicos[\"PAGO\"] != 670]\n",
    "\n",
    "# Mostrar las primeras filas del nuevo DataFrame\n",
    "postulantes_unicos.shape[0]"
   ]
  },
  {
   "cell_type": "markdown",
   "metadata": {},
   "source": [
    "**VALORES ATIPICOS PAGO = 0**\n"
   ]
  },
  {
   "cell_type": "code",
   "execution_count": null,
   "metadata": {},
   "outputs": [],
   "source": [
    "# Crear un nuevo DataFrame con las filas donde PAGO es igual a cero\n",
    "postulantes_con_pago_cero = postulantes_unicos[postulantes_unicos[\"PAGO\"] == 0]\n",
    "\n",
    "# Mostrar las primeras filas del nuevo DataFrame\n",
    "postulantes_con_pago_cero.shape[0]"
   ]
  },
  {
   "cell_type": "markdown",
   "metadata": {},
   "source": [
    "**OBSERVACION**\n",
    "\n",
    "- Existen 45 postulanyes con pago 0, veamos porque a estos postulantes se les excluyo el pago\n"
   ]
  },
  {
   "cell_type": "markdown",
   "metadata": {},
   "source": [
    "**Distribución de Postulantes con PAGO=0**\n"
   ]
  },
  {
   "cell_type": "code",
   "execution_count": null,
   "metadata": {},
   "outputs": [],
   "source": [
    "import seaborn as sns\n",
    "import matplotlib.pyplot as plt\n",
    "\n",
    "# Configuración de estilo de Seaborn\n",
    "sns.set(style=\"whitegrid\")\n",
    "\n",
    "# Crear un gráfico de barras utilizando 'ESCUELA' en el eje x y 'DISTRITO' en el eje y\n",
    "plt.figure(figsize=(10, 6))\n",
    "sns.countplot(data=postulantes_con_pago_cero, x=\"ESCUELA\", hue=\"MODALIDAD\")\n",
    "plt.xticks(rotation=90)\n",
    "plt.title(\"Distribución de Postulantes con PAGO=0 por Escuela y Distrito\")\n",
    "plt.xlabel(\"Escuela Profesional\")\n",
    "plt.ylabel(\"Cantidad de Postulantes\")\n",
    "plt.legend(title=\"Distrito\", loc=\"upper right\")\n",
    "plt.tight_layout()\n",
    "plt.show()"
   ]
  },
  {
   "cell_type": "markdown",
   "metadata": {},
   "source": [
    "OBSERVACION\n",
    "\n",
    "- Los postulantes con modalidad EXTRAORDINARIO VICTIMAS DE TERRORISMO no pagan para rendir el examen\n"
   ]
  },
  {
   "cell_type": "markdown",
   "metadata": {},
   "source": [
    "### **Codificacion de la variable ESCUELA - Metodo (Frecuencia()% encoder)**"
   ]
  },
  {
   "cell_type": "code",
   "execution_count": null,
   "metadata": {},
   "outputs": [],
   "source": [
    "# Crear un diccionario a partir de la tupla para mapear las escuelas a los porcentajes\n",
    "escuela_porcentaje_dict = dict(porcentajes)\n",
    "\n",
    "# Codificar la variable ESCUELA con los valores enteros de los porcentajes de frecuencia\n",
    "postulantes_unicos[\"ESCUELA_CODIFICADA\"] = (\n",
    "    postulantes_unicos[\"ESCUELA\"].map(escuela_porcentaje_dict).apply(lambda x: int(x))\n",
    ")\n",
    "postulantes_unicos[\"ESCUELA_CODIFICADA\"]"
   ]
  },
  {
   "cell_type": "markdown",
   "metadata": {},
   "source": [
    "## B) VARIABLE MODALIDAD\n"
   ]
  },
  {
   "cell_type": "code",
   "execution_count": null,
   "metadata": {},
   "outputs": [],
   "source": [
    "postulantes_unicos[\"MODALIDAD\"].describe()"
   ]
  },
  {
   "cell_type": "code",
   "execution_count": null,
   "metadata": {},
   "outputs": [],
   "source": [
    "# Contar la frecuencia de cada valor en la columna 'ESCUELA'\n",
    "escuela_counts = postulantes_unicos[\"MODALIDAD\"].value_counts()\n",
    "\n",
    "# Calcular los porccentajes\n",
    "total_escuelas = len(\n",
    "    postulantes_unicos[\"MODALIDAD\"]\n",
    ")  # Usamos Postulantes en lugar de data\n",
    "porcentajes = (escuela_counts / total_escuelas) * 100\n",
    "\n",
    "# Crear las etiquetas con porcentajes\n",
    "etiquetas = [\n",
    "    f\"{escuela} ({porcentaje:.2f} %)\"\n",
    "    for escuela, porcentaje in zip(escuela_counts.index, porcentajes)\n",
    "]\n",
    "\n",
    "# Crear una paleta de colores usando seaborn\n",
    "colors = [\n",
    "    \"hsl(\" + str(h) + \",50%\" + \",50%)\" for h in np.linspace(0, 360, len(escuela_counts))\n",
    "]\n",
    "\n",
    "# Crear el gráfico de barras\n",
    "trace = go.Bar(\n",
    "    x=etiquetas,  # Usamos las etiquetas con porcentajes como nombres de las barras\n",
    "    y=escuela_counts.values,  # Frecuencia de cada escuela\n",
    "    marker=dict(color=colors),  # Color de las barras\n",
    ")\n",
    "\n",
    "layout = go.Layout(\n",
    "    title=\"Distribución de Modalidades\",\n",
    "    xaxis=dict(title=\"Modalidad\"),\n",
    "    yaxis=dict(title=\"Frecuencia\"),\n",
    "    paper_bgcolor=\"rgb(243, 243, 243)\",\n",
    "    plot_bgcolor=\"rgb(243, 243, 243)\",\n",
    ")\n",
    "\n",
    "# Crear la figura y trazar el gráfico\n",
    "fig = go.Figure(data=[trace], layout=layout)\n",
    "py.iplot(fig)"
   ]
  },
  {
   "cell_type": "markdown",
   "metadata": {},
   "source": [
    "### **Codificacion de la variable MODALIDAD**"
   ]
  },
  {
   "cell_type": "code",
   "execution_count": null,
   "metadata": {},
   "outputs": [],
   "source": [
    "# Crear un diccionario a partir de la tupla para mapear las escuelas a los porcentajes\n",
    "escuela_porcentaje_dict = dict(porcentajes)\n",
    "\n",
    "# Codificar la variable ESCUELA con los valores enteros de los porcentajes de frecuencia\n",
    "postulantes_unicos[\"MODALIDAD_CODIFICADA\"] = (\n",
    "    postulantes_unicos[\"MODALIDAD\"].map(escuela_porcentaje_dict).apply(lambda x: int(x))\n",
    ")\n",
    "postulantes_unicos[\"MODALIDAD_CODIFICADA\"]"
   ]
  },
  {
   "cell_type": "markdown",
   "metadata": {},
   "source": [
    "###  **Diagrama de Cajas Modalidada**\n"
   ]
  },
  {
   "cell_type": "code",
   "execution_count": null,
   "metadata": {},
   "outputs": [],
   "source": [
    "import plotly.graph_objs as go\n",
    "import plotly.offline as py\n",
    "\n",
    "# Crear una lista de trazas de cajasC para cada escuela\n",
    "data_traces = []\n",
    "for escuela in postulantes_unicos[\"MODALIDAD\"].unique():\n",
    "    trace = go.Box(\n",
    "        y=postulantes_unicos[postulantes_unicos[\"MODALIDAD\"] == escuela][\n",
    "            \"PAGO\"\n",
    "        ],  # Valores a graficar (en este caso, la columna PAGO)\n",
    "        name=escuela,  # Etiqueta de la caja (escuela)\n",
    "    )\n",
    "    data_traces.append(trace)\n",
    "\n",
    "layout = go.Layout(\n",
    "    title=\"Diagrama de Cajas por Modalidad\",\n",
    "    xaxis=dict(title=\"Modalidad\"),\n",
    "    yaxis=dict(title=\"Pago\"),\n",
    "    paper_bgcolor=\"rgb(243, 243, 243)\",\n",
    "    plot_bgcolor=\"rgb(243, 243, 243)\",\n",
    ")\n",
    "\n",
    "# Crear la figura y trazar el gráfico\n",
    "fig = go.Figure(data=data_traces, layout=layout)\n",
    "py.iplot(fig)"
   ]
  },
  {
   "cell_type": "code",
   "execution_count": null,
   "metadata": {},
   "outputs": [],
   "source": [
    "import plotly.graph_objs as go\n",
    "import plotly.offline as py\n",
    "\n",
    "# Filtrar por sexo (por ejemplo, 'MASCULINO' o 'FEMENINO')\n",
    "sexo_filtrado = \"MASCULINO\"\n",
    "\n",
    "# Filtrar el DataFrame por el sexo seleccionado\n",
    "data_sexo_filtrado = postulantes_unicos[postulantes_unicos[\"SEXO\"] == sexo_filtrado]\n",
    "\n",
    "# Crear una lista de trazas de dispersión para cada escuela\n",
    "data_traces = []\n",
    "for escuela in data_sexo_filtrado[\"MODALIDAD\"].unique():\n",
    "    trace = go.Scatter(\n",
    "        x=data_sexo_filtrado[data_sexo_filtrado[\"MODALIDAD\"] == escuela][\"MODALIDAD\"],\n",
    "        y=data_sexo_filtrado[data_sexo_filtrado[\"MODALIDAD\"] == escuela][\"EDAD\"],\n",
    "        mode=\"markers\",\n",
    "        name=escuela,\n",
    "    )\n",
    "    data_traces.append(trace)\n",
    "\n",
    "layout = go.Layout(\n",
    "    title=\"Distribución de Edad por Escuela Profesional (Filtro: \"\n",
    "    + sexo_filtrado\n",
    "    + \")\",\n",
    "    xaxis=dict(title=\"Escuela Profesional\"),\n",
    "    yaxis=dict(title=\"Edad\"),\n",
    "    paper_bgcolor=\"rgb(243, 243, 243)\",\n",
    "    plot_bgcolor=\"rgb(243, 243, 243)\",\n",
    ")\n",
    "\n",
    "# Crear la figura y trazar el gráfico\n",
    "fig = go.Figure(data=data_traces, layout=layout)\n",
    "py.iplot(fig)"
   ]
  },
  {
   "cell_type": "markdown",
   "metadata": {},
   "source": [
    "### **Eliminacion de los valores atipicos con Edad 67**"
   ]
  },
  {
   "cell_type": "code",
   "execution_count": null,
   "metadata": {
    "tags": []
   },
   "outputs": [],
   "source": [
    "# Filtrar el conjunto de datos para obtener las filas con EDAD igual a 67\n",
    "postulantes_edad_67 = postulantes_unicos[postulantes_unicos[\"EDAD\"] == 67]\n",
    "\n",
    "# Filtrar las filas restantes con EDAD diferente de 67 para eliminar los valores atípicos\n",
    "postulantes_unicos = postulantes_unicos[postulantes_unicos[\"EDAD\"] != 67]\n",
    "\n",
    "# Mostrar el tamaño del conjunto de datos sin valores atípicos\n",
    "print(\"Tamaño del conjunto de datos sin valores atípicos:\", postulantes_unicos.shape)\n"
   ]
  },
  {
   "cell_type": "markdown",
   "metadata": {},
   "source": [
    "## C) VARIABLE IDIOMA\n"
   ]
  },
  {
   "cell_type": "code",
   "execution_count": null,
   "metadata": {},
   "outputs": [],
   "source": [
    "import plotly.graph_objs as go\n",
    "import plotly.offline as py\n",
    "\n",
    "# Filtrar las columnas de interés\n",
    "data_filtered = postulantes_unicos[[\"ESCUELA\", \"IDIOMA\"]]\n",
    "\n",
    "# Contar la cantidad de estudiantes por combinación de Escuela e Idioma\n",
    "idioma_counts = (\n",
    "    data_filtered.groupby([\"ESCUELA\", \"IDIOMA\"]).size().reset_index(name=\"Cantidad\")\n",
    ")\n",
    "\n",
    "# Crear el gráfico de barras\n",
    "data = []\n",
    "for idioma in idioma_counts[\"IDIOMA\"].unique():\n",
    "    trace = go.Bar(\n",
    "        x=idioma_counts[idioma_counts[\"IDIOMA\"] == idioma][\"ESCUELA\"],\n",
    "        y=idioma_counts[idioma_counts[\"IDIOMA\"] == idioma][\"Cantidad\"],\n",
    "        name=idioma,\n",
    "    )\n",
    "    data.append(trace)\n",
    "\n",
    "layout = go.Layout(\n",
    "    title=\"Distribución de Idiomas por Escuela Profesional\",\n",
    "    xaxis=dict(title=\"Escuela Profesional\"),\n",
    "    yaxis=dict(title=\"Cantidad\"),\n",
    "    barmode=\"stack\",\n",
    ")\n",
    "\n",
    "# Crear la figura y trazar el gráfico\n",
    "fig = go.Figure(data=data, layout=layout)\n",
    "py.iplot(fig)"
   ]
  },
  {
   "cell_type": "code",
   "execution_count": null,
   "metadata": {},
   "outputs": [],
   "source": [
    "import plotly.graph_objs as go\n",
    "import plotly.offline as py\n",
    "\n",
    "# Contar la frecuencia de cada valor en la columna 'IDIOMA'\n",
    "idioma_counts = postulantes_unicos[\"IDIOMA\"].value_counts()\n",
    "\n",
    "# Crear el gráfico de pastel en 3D\n",
    "trace = go.Pie(\n",
    "    labels=idioma_counts.index,\n",
    "    values=idioma_counts.values,\n",
    "    type=\"pie\",\n",
    "    textinfo=\"label+percent\",\n",
    "    hoverinfo=\"label+value+percent\",\n",
    "    textfont=dict(size=12),\n",
    "    marker=dict(\n",
    "        colors=[\"#1f77b4\", \"#ff7f0e\", \"#2ca02c\", \"#d62728\", \"#9467bd\", \"#8c564b\"]\n",
    "    ),\n",
    ")\n",
    "\n",
    "layout = go.Layout(\n",
    "    title=\"Distribución de Idiomas\",\n",
    "    paper_bgcolor=\"rgb(243, 243, 243)\",\n",
    "    plot_bgcolor=\"rgb(243, 243, 243)\",\n",
    ")\n",
    "\n",
    "# Crear la figura y trazar el gráfico\n",
    "fig = go.Figure(data=[trace], layout=layout)\n",
    "py.iplot(fig)"
   ]
  },
  {
   "cell_type": "code",
   "execution_count": null,
   "metadata": {},
   "outputs": [],
   "source": [
    "idioma_counts"
   ]
  },
  {
   "cell_type": "markdown",
   "metadata": {},
   "source": [
    "### **Codificacion de la variable IDIOMA con el metodo - Frecuencia(%) encoding**"
   ]
  },
  {
   "cell_type": "code",
   "execution_count": null,
   "metadata": {},
   "outputs": [],
   "source": [
    "import pandas as pd\n",
    "\n",
    "# Calcular los porcentajes\n",
    "idioma_counts = postulantes_unicos[\"IDIOMA\"].value_counts()\n",
    "total_registros = len(postulantes_unicos[\"IDIOMA\"])\n",
    "porcentajes = (idioma_counts / total_registros) * 100\n",
    "\n",
    "# Crear un diccionario a partir de la serie para mapear los idiomas a los porcentajes\n",
    "idioma_porcentaje_dict = porcentajes.to_dict()\n",
    "\n",
    "\n",
    "# Codificar la variable IDIOMA con los valores enteros de los porcentajes de frecuencia\n",
    "def codificar_idioma(idioma):\n",
    "    if idioma in idioma_porcentaje_dict:\n",
    "        return int(idioma_porcentaje_dict[idioma])\n",
    "    else:\n",
    "        return None\n",
    "\n",
    "\n",
    "postulantes_unicos[\"IDIOMA_CODIFICADO\"] = postulantes_unicos[\"IDIOMA\"].apply(\n",
    "    codificar_idioma\n",
    ")\n",
    "\n",
    "postulantes_unicos[[\"IDIOMA\", \"IDIOMA_CODIFICADO\"]]"
   ]
  },
  {
   "cell_type": "code",
   "execution_count": null,
   "metadata": {},
   "outputs": [],
   "source": [
    "import pandas as pd\n",
    "\n",
    "# Filtrar los datos para aquellos con información de idioma\n",
    "data_with_idioma = postulantes_unicos[postulantes_unicos[\"IDIOMA\"].notnull()]\n",
    "\n",
    "# Agrupar por carrera y contar cuántos hablan cada idioma\n",
    "idioma_counts_by_carrera = (\n",
    "    data_with_idioma.groupby([\"ESCUELA\", \"IDIOMA\"])[\"UUID\"].count().reset_index()\n",
    ")\n",
    "\n",
    "# Renombrar la columna UUID por 'Cantidad'\n",
    "idioma_counts_by_carrera.rename(columns={\"UUID\": \"Cantidad\"}, inplace=True)\n",
    "\n",
    "# Mostrar la tabla\n",
    "idioma_counts_by_carrera.head()"
   ]
  },
  {
   "cell_type": "code",
   "execution_count": null,
   "metadata": {},
   "outputs": [],
   "source": [
    "import pandas as pd\n",
    "\n",
    "# Filtrar los datos para aquellos con información de idioma\n",
    "data_with_idioma = postulantes_unicos[postulantes_unicos[\"IDIOMA\"].notnull()]\n",
    "\n",
    "# Agrupar por carrera y contar cuántos hablan cada idioma\n",
    "idioma_counts_by_carrera = (\n",
    "    data_with_idioma.groupby([\"ESCUELA\", \"IDIOMA\"])[\"UUID\"].count().reset_index()\n",
    ")\n",
    "\n",
    "# Renombrar la columna UUID por 'Cantidad'\n",
    "idioma_counts_by_carrera.rename(columns={\"UUID\": \"Cantidad\"}, inplace=True)\n",
    "\n",
    "# Ordenar la tabla por cantidad y por escuela profesional\n",
    "idioma_counts_by_carrera_sorted = idioma_counts_by_carrera.sort_values(\n",
    "    by=[\"Cantidad\", \"ESCUELA\"], ascending=[False, True]\n",
    ")\n",
    "\n",
    "# Mostrar la tabla ordenada\n",
    "idioma_counts_by_carrera_sorted"
   ]
  },
  {
   "cell_type": "code",
   "execution_count": null,
   "metadata": {},
   "outputs": [],
   "source": [
    "import seaborn as sns\n",
    "import matplotlib.pyplot as plt\n",
    "\n",
    "# Filtrar las columnas de interés\n",
    "data_filtered = postulantes_unicos[[\"ESCUELA\", \"IDIOMA\"]]\n",
    "\n",
    "# Crear el gráfico de barras\n",
    "plt.figure(figsize=(12, 6))\n",
    "sns.countplot(x=\"ESCUELA\", hue=\"IDIOMA\", data=data_filtered)\n",
    "plt.xticks(rotation=90)\n",
    "plt.title(\"Distribución de Idiomas por Escuela Profesional\")\n",
    "plt.xlabel(\"Escuela Profesional\")\n",
    "plt.ylabel(\"Cantidad\")\n",
    "plt.legend(title=\"Idioma\")\n",
    "plt.tight_layout()\n",
    "plt.show()"
   ]
  },
  {
   "cell_type": "code",
   "execution_count": null,
   "metadata": {},
   "outputs": [],
   "source": [
    "import matplotlib.pyplot as plt\n",
    "import seaborn as sns\n",
    "\n",
    "# Filtrar los datos para aquellos con información de idioma y UBIGEO_IE\n",
    "data_with_idioma_ubigeo = postulantes_unicos[\n",
    "    postulantes_unicos[\"IDIOMA\"].notnull() & (postulantes_unicos[\"UBIGEO_IE\"] != 0)\n",
    "]\n",
    "\n",
    "# Crear el gráfico de dispersión utilizando Seaborn\n",
    "plt.figure(figsize=(12, 6))\n",
    "sns.scatterplot(data=data_with_idioma_ubigeo, x=\"UBIGEO_IE\", y=\"IDIOMA\", alpha=0.5)\n",
    "plt.title(\"Distribución de Idioma por UBIGEO_IE\")\n",
    "plt.xlabel(\"UBIGEO_IE\")\n",
    "plt.ylabel(\"Idioma\")\n",
    "plt.xticks(rotation=90)\n",
    "plt.tight_layout()\n",
    "plt.show()"
   ]
  },
  {
   "cell_type": "code",
   "execution_count": null,
   "metadata": {},
   "outputs": [],
   "source": [
    "import matplotlib.pyplot as plt\n",
    "import seaborn as sns\n",
    "\n",
    "# Filtrar los datos para aquellos con información de idioma y PROVINCIA_IE\n",
    "data_with_idioma_provincia = postulantes_unicos[\n",
    "    postulantes_unicos[\"IDIOMA\"].notnull() & (postulantes_unicos[\"PROVINCIA_IE\"] != \"\")\n",
    "]\n",
    "\n",
    "# Crear el gráfico de dispersión utilizando Seaborn\n",
    "plt.figure(figsize=(12, 6))\n",
    "sns.scatterplot(\n",
    "    data=data_with_idioma_provincia,\n",
    "    x=\"PROVINCIA_IE\",\n",
    "    y=\"IDIOMA\",\n",
    "    hue=\"IDIOMA\",\n",
    "    palette=\"Set1\",\n",
    "    alpha=0.7,\n",
    ")\n",
    "plt.title(\"Distribución de Idioma por PROVINCIA_IE\")\n",
    "plt.xlabel(\"PROVINCIA_IE\")\n",
    "plt.ylabel(\"Idioma\")\n",
    "plt.xticks(rotation=90)\n",
    "plt.tight_layout()\n",
    "plt.legend(title=\"Idioma\")\n",
    "plt.show()"
   ]
  },
  {
   "cell_type": "code",
   "execution_count": null,
   "metadata": {},
   "outputs": [],
   "source": [
    "import pandas as pd\n",
    "\n",
    "# Filtrar los datos para aquellos con información de idioma y PROVINCIA_IE\n",
    "data_with_idioma_provincia = postulantes_unicos[\n",
    "    postulantes_unicos[\"IDIOMA\"].notnull() & (postulantes_unicos[\"PROVINCIA_IE\"] != \"\")\n",
    "]\n",
    "\n",
    "# Agrupar los datos por región y idioma, y contar la cantidad de postulantes en cada grupo\n",
    "idioma_por_region = (\n",
    "    data_with_idioma_provincia.groupby([\"PROVINCIA_IE\", \"IDIOMA\"])[\"UUID\"]\n",
    "    .count()\n",
    "    .reset_index()\n",
    ")\n",
    "idioma_por_region.columns = [\"Region\", \"Idioma\", \"Cantidad\"]\n",
    "\n",
    "# Ordenar la tabla por cantidad y región\n",
    "idioma_por_region = idioma_por_region.sort_values(\n",
    "    by=[\"Region\", \"Cantidad\"], ascending=[True, False]\n",
    ")\n",
    "\n",
    "# Imprimir la tabla\n",
    "print(idioma_por_region)"
   ]
  },
  {
   "cell_type": "code",
   "execution_count": null,
   "metadata": {},
   "outputs": [],
   "source": [
    "import seaborn as sns\n",
    "import matplotlib.pyplot as plt\n",
    "\n",
    "# Crear un gráfico de barras agrupadas para contar la cantidad de postulantes por idioma y provincia\n",
    "plt.figure(figsize=(12, 8))\n",
    "sns.set_palette(\"pastel\")\n",
    "sns.set(style=\"whitegrid\")\n",
    "sns.countplot(data=data_with_idioma_provincia, x=\"PROVINCIA_IE\", hue=\"IDIOMA\")\n",
    "plt.title(\"Cantidad de Postulantes por Idioma y Provincia\")\n",
    "plt.xlabel(\"Provincia\")\n",
    "plt.ylabel(\"Cantidad de Postulantes\")\n",
    "plt.xticks(rotation=45)\n",
    "plt.legend(title=\"Idioma\")\n",
    "plt.tight_layout()\n",
    "plt.show()"
   ]
  },
  {
   "cell_type": "code",
   "execution_count": null,
   "metadata": {},
   "outputs": [],
   "source": [
    "import plotly.graph_objs as go\n",
    "import plotly.offline as py\n",
    "\n",
    "# Agrupar los datos por provincia e idioma y contar la cantidad de postulantes en cada combinación\n",
    "grouped_data = (\n",
    "    data_with_idioma_provincia.groupby([\"PROVINCIA_IE\", \"IDIOMA\"])\n",
    "    .size()\n",
    "    .reset_index(name=\"CANTIDAD\")\n",
    ")\n",
    "\n",
    "# Crear un gráfico de barras agrupadas\n",
    "trace = []\n",
    "idiomas = grouped_data[\"IDIOMA\"].unique()\n",
    "for idioma in idiomas:\n",
    "    trace.append(\n",
    "        go.Bar(\n",
    "            x=grouped_data[grouped_data[\"IDIOMA\"] == idioma][\"PROVINCIA_IE\"],\n",
    "            y=grouped_data[grouped_data[\"IDIOMA\"] == idioma][\"CANTIDAD\"],\n",
    "            name=idioma,\n",
    "        )\n",
    "    )\n",
    "\n",
    "layout = go.Layout(\n",
    "    title=\"Cantidad de Postulantes por Idioma y Provincia\",\n",
    "    xaxis=dict(title=\"Provincia\"),\n",
    "    yaxis=dict(title=\"Cantidad de Postulantes\"),\n",
    "    barmode=\"group\",\n",
    ")\n",
    "\n",
    "fig = go.Figure(data=trace, layout=layout)\n",
    "py.iplot(fig)"
   ]
  },
  {
   "cell_type": "code",
   "execution_count": null,
   "metadata": {},
   "outputs": [],
   "source": [
    "correlation_matrix = postulantes_unicos.corr()\n",
    "sns.heatmap(correlation_matrix, annot=True, cmap=\"coolwarm\")\n",
    "plt.show()"
   ]
  },
  {
   "cell_type": "code",
   "execution_count": null,
   "metadata": {},
   "outputs": [],
   "source": [
    "import pandas as pd\n",
    "import seaborn as sns\n",
    "import matplotlib.pyplot as plt\n",
    "\n",
    "# Crear la tabla de contingencia entre IDIOMA y DISTRITO_IE\n",
    "contingency_table = pd.crosstab(\n",
    "    postulantes_unicos[\"IDIOMA\"], postulantes_unicos[\"DISTRITO_IE\"]\n",
    ")\n",
    "\n",
    "# Generar el heatmap\n",
    "plt.figure(figsize=(10, 6))\n",
    "sns.heatmap(contingency_table, annot=True, cmap=\"YlGnBu\", fmt=\"d\")\n",
    "plt.title(\"Tabla de Contingencia y Heatmap entre IDIOMA y DISTRITO_IE\")\n",
    "plt.xlabel(\"DISTRITO_IE\")\n",
    "plt.ylabel(\"IDIOMA\")\n",
    "plt.show()"
   ]
  },
  {
   "cell_type": "markdown",
   "metadata": {},
   "source": [
    "# CODIFICACION DE LAS DEMAS VARIABLES CATEGORICAS\n"
   ]
  },
  {
   "cell_type": "code",
   "execution_count": null,
   "metadata": {},
   "outputs": [],
   "source": [
    "!pip install category_encoders"
   ]
  },
  {
   "cell_type": "code",
   "execution_count": null,
   "metadata": {},
   "outputs": [],
   "source": [
    "import pandas as pd\n",
    "from sklearn.preprocessing import LabelEncoder\n",
    "from category_encoders import CountEncoder\n",
    "\n",
    "# Lista de columnas con variables categóricas y de interés\n",
    "categorical_cols = [\n",
    "    \"DEPARTAMENTO\",\n",
    "    \"PROVINCIA\",\n",
    "    \"DISTRITO\",\n",
    "    \"DEPARTAMENTO_ORIGEN\",\n",
    "    \"PROVINCIA_ORIGEN\",\n",
    "    \"DISTRITO_ORIGEN\",\n",
    "    \"DEPARTAMENTO_IE\",\n",
    "    \"PROVINCIA_IE\",\n",
    "    \"DISTRITO_IE\",\n",
    "    \"SEXO\",\n",
    "    \"LEE\",\n",
    "    \"ESCRIBE\",\n",
    "    \"HABLA\",\n",
    "    \"TIENE_DISCAPACIDAD\",\n",
    "    \"TIPO_COMUNIDAD\",\n",
    "    \"COMUNIDAD\",\n",
    "]\n",
    "\n",
    "# Crear un nuevo DataFrame para las variables codificadas\n",
    "encoded_data = postulantes_unicos.copy()\n",
    "\n",
    "# Inicializar el LabelEncoder\n",
    "label_encoder = LabelEncoder()\n",
    "\n",
    "# Inicializar el CountEncoder\n",
    "count_encoder = CountEncoder()\n",
    "\n",
    "# Aplicar Label-Encoding a las variables categóricas con 2 a 5 valores únicos\n",
    "# y Count-Encoding a las demás\n",
    "for col in categorical_cols:\n",
    "    unique_values = postulantes_unicos[col].nunique()\n",
    "    if unique_values == 2:\n",
    "        encoded_data[col] = label_encoder.fit_transform(postulantes_unicos[col])\n",
    "    else:\n",
    "        encoded_data[col] = count_encoder.fit_transform(postulantes_unicos[col])"
   ]
  },
  {
   "cell_type": "markdown",
   "metadata": {},
   "source": [
    "## DATAFRAME CODIFICADO"
   ]
  },
  {
   "cell_type": "code",
   "execution_count": null,
   "metadata": {},
   "outputs": [],
   "source": [
    "# Mostrar las primeras filas del DataFrame codificado\n",
    "encoded_data.head()"
   ]
  },
  {
   "cell_type": "markdown",
   "metadata": {},
   "source": [
    "## COLUMNAS DEL DATASET CODIFICADO\n"
   ]
  },
  {
   "cell_type": "code",
   "execution_count": null,
   "metadata": {
    "tags": []
   },
   "outputs": [],
   "source": [
    "encoded_data.columns"
   ]
  },
  {
   "cell_type": "markdown",
   "metadata": {
    "tags": []
   },
   "source": [
    "## MATRIZ DE CORRELACION"
   ]
  },
  {
   "cell_type": "code",
   "execution_count": null,
   "metadata": {},
   "outputs": [],
   "source": [
    "import pandas as pd\n",
    "import seaborn as sns\n",
    "import matplotlib.pyplot as plt\n",
    "\n",
    "# Calcular la matriz de correlación\n",
    "correlation_matrix = encoded_data.corr()\n",
    "\n",
    "# Crear un heatmap de la matriz de correlación\n",
    "plt.figure(figsize=(12, 10))\n",
    "sns.heatmap(correlation_matrix, annot=True, cmap=\"coolwarm\", fmt=\".1f\")\n",
    "plt.title(\"Matriz de Correlación\")\n",
    "plt.show()\n",
    "\n",
    "# Correlación de la variable IDIOMA con otras variables\n",
    "correlation_with_idioma = correlation_matrix[\"IDIOMA_CODIFICADO\"].sort_values(\n",
    "    ascending=False\n",
    ")\n",
    "print(correlation_with_idioma)"
   ]
  },
  {
   "cell_type": "markdown",
   "metadata": {},
   "source": [
    "La variable 'IDIOMA_CODIFICADO' tiene una correlación positiva más fuerte con las siguientes variables:\n",
    "\n",
    "PAGO: 0.651244\n",
    "TIPO_COMUNIDAD: 0.494760\n",
    "MODALIDAD_CODIFICADA: 0.431830\n",
    "DISTRITO_ORIGEN: 0.351687\n",
    "DISTRITO_IE: 0.332492\n",
    "DISTRITO: 0.296624\n",
    "LEE: 0.078223\n",
    "ESCRIBE: 0.067700\n"
   ]
  },
  {
   "cell_type": "code",
   "execution_count": null,
   "metadata": {},
   "outputs": [],
   "source": [
    "import seaborn as sns\n",
    "import matplotlib.pyplot as plt\n",
    "\n",
    "# Calcular la correlación de la variable IDIOMA con las demás variables\n",
    "correlation_with_idioma = encoded_data.corr()[\"IDIOMA_CODIFICADO\"].drop(\n",
    "    \"IDIOMA_CODIFICADO\"\n",
    ")\n",
    "\n",
    "# Crear un gráfico de barras de la correlación\n",
    "plt.figure(figsize=(10, 8))\n",
    "sns.barplot(\n",
    "    x=correlation_with_idioma.values,\n",
    "    y=correlation_with_idioma.index,\n",
    "    palette=\"coolwarm\",\n",
    ")\n",
    "plt.xlabel(\"Correlación con IDIOMA\")\n",
    "plt.ylabel(\"Variables\")\n",
    "plt.title(\"Correlación de IDIOMA con Otras Variables\")\n",
    "plt.show()"
   ]
  },
  {
   "cell_type": "code",
   "execution_count": null,
   "metadata": {},
   "outputs": [],
   "source": [
    "# Verificar los valores faltantes en cada columna\n",
    "missing_values = postulantes_unicos.isnull().sum()\n",
    "\n",
    "# Mostrar el total de valores faltantes por columna\n",
    "print(\"Valores faltantes por columna:\")\n",
    "print(missing_values)"
   ]
  },
  {
   "cell_type": "markdown",
   "metadata": {},
   "source": [
    "# IMPUTACION DE LOS DATOS"
   ]
  },
  {
   "cell_type": "code",
   "execution_count": null,
   "metadata": {},
   "outputs": [],
   "source": [
    "# Calcular la moda de las variables seleccionadas\n",
    "moda_lee = encoded_data[\"LEE\"].mode()[0]\n",
    "moda_escribe = encoded_data[\"ESCRIBE\"].mode()[0]\n",
    "moda_habla = encoded_data[\"HABLA\"].mode()[0]\n",
    "moda_tiene_discapacidad = encoded_data[\"TIENE_DISCAPACIDAD\"].mode()[0]\n",
    "moda_tipo_comunidad = encoded_data[\"TIPO_COMUNIDAD\"].mode()[0]\n",
    "\n",
    "# Imputar los valores faltantes con la moda\n",
    "encoded_data[\"LEE\"].fillna(moda_lee, inplace=True)\n",
    "encoded_data[\"ESCRIBE\"].fillna(moda_escribe, inplace=True)\n",
    "encoded_data[\"HABLA\"].fillna(moda_habla, inplace=True)\n",
    "encoded_data[\"TIENE_DISCAPACIDAD\"].fillna(moda_tiene_discapacidad, inplace=True)\n",
    "encoded_data[\"TIPO_COMUNIDAD\"].fillna(moda_tipo_comunidad, inplace=True)\n",
    "\n",
    "# Mostrar las primeras filas del DataFrame con los valores imputados\n",
    "print(\n",
    "    encoded_data[\n",
    "        [\"LEE\", \"ESCRIBE\", \"HABLA\", \"TIENE_DISCAPACIDAD\", \"TIPO_COMUNIDAD\"]\n",
    "    ].head()\n",
    ")"
   ]
  },
  {
   "cell_type": "code",
   "execution_count": null,
   "metadata": {},
   "outputs": [],
   "source": [
    "import numpy as np\n",
    "from sklearn.impute import KNNImputer\n",
    "\n",
    "# Crear una matriz con las variables que se utilizarán para imputar\n",
    "variables_imputacion = encoded_data[\n",
    "    [\n",
    "        \"PAGO\",\n",
    "        \"TIPO_COMUNIDAD\",\n",
    "        \"MODALIDAD_CODIFICADA\",\n",
    "        \"DISTRITO_ORIGEN\",\n",
    "        \"DISTRITO_IE\",\n",
    "        \"DISTRITO\",\n",
    "        \"LEE\",\n",
    "        \"ESCRIBE\",\n",
    "    ]\n",
    "].values\n",
    "\n",
    "# Crear una instancia de KNNImputer\n",
    "imputer = KNNImputer(\n",
    "    n_neighbors=5\n",
    ")  # Puedes ajustar el número de vecinos (neighbors) según tus necesidades\n",
    "\n",
    "# Imputar los valores faltantes en 'IDIOMA_CODIFICADO'\n",
    "encoded_data[\"IDIOMA_CODIFICADO_IMPUTADO\"] = imputer.fit_transform(\n",
    "    variables_imputacion\n",
    ")[:, 0]\n",
    "\n",
    "# Mostrar las primeras filas del DataFrame con los valores imputados\n",
    "print(encoded_data[[\"IDIOMA_CODIFICADO\", \"IDIOMA_CODIFICADO_IMPUTADO\"]].head())"
   ]
  },
  {
   "cell_type": "code",
   "execution_count": null,
   "metadata": {},
   "outputs": [],
   "source": [
    "encoded_data[\"IDIOMA_CODIFICADO_IMPUTADO\"]"
   ]
  },
  {
   "cell_type": "code",
   "execution_count": null,
   "metadata": {},
   "outputs": [],
   "source": [
    "encoded_data.head()"
   ]
  },
  {
   "cell_type": "code",
   "execution_count": null,
   "metadata": {},
   "outputs": [],
   "source": [
    "columnas = encoded_data.columns\n",
    "print(columnas)"
   ]
  },
  {
   "cell_type": "code",
   "execution_count": null,
   "metadata": {},
   "outputs": [],
   "source": [
    "columnas = [\"ESCUELA\", \"MODALIDAD\", \"IDIOMA\", \"IDIOMA_CODIFICADO\"]\n",
    "DfEstudiantes = encoded_data.drop(columns=columnas)"
   ]
  },
  {
   "cell_type": "markdown",
   "metadata": {},
   "source": [
    "# DATASET PREPROCESADO"
   ]
  },
  {
   "cell_type": "code",
   "execution_count": null,
   "metadata": {
    "tags": []
   },
   "outputs": [],
   "source": [
    "DfEstudiantes.head()"
   ]
  },
  {
   "cell_type": "code",
   "execution_count": null,
   "metadata": {},
   "outputs": [],
   "source": [
    "DfEstudiantes.columns"
   ]
  },
  {
   "cell_type": "code",
   "execution_count": null,
   "metadata": {},
   "outputs": [],
   "source": [
    "DfEstudiantes.describe()"
   ]
  },
  {
   "cell_type": "code",
   "execution_count": null,
   "metadata": {
    "tags": []
   },
   "outputs": [],
   "source": [
    "# Eliminar la columna 'Fecha_Corte'\n",
    "DfEstudiantes = DfEstudiantes.drop(columns=['UBIGEO','UBIGEO_ORIGEN','UBIGEO_IE'])\n",
    "\n",
    "# Mostrar el conjunto de datos después de eliminar la columna\n",
    "DfEstudiantes.head()"
   ]
  },
  {
   "cell_type": "code",
   "execution_count": null,
   "metadata": {},
   "outputs": [],
   "source": [
    "from sklearn.preprocessing import StandardScaler, MinMaxScaler\n",
    "\n",
    "# Crear una copia del DataFrame para evitar modificar el original\n",
    "df_normalized = DfEstudiantes.copy()\n",
    "df_standardized = DfEstudiantes.copy()\n",
    "\n",
    "# Seleccionar las columnas numéricas para normalizar y estandarizar\n",
    "numeric_columns = [\n",
    "    \"ANNIO_POSTULACION\",\n",
    "    \"DEPARTAMENTO\",\n",
    "    \"PROVINCIA\",\n",
    "    \"DISTRITO\",\n",
    "    \"DEPARTAMENTO_ORIGEN\",\n",
    "    \"PROVINCIA_ORIGEN\",\n",
    "    \"DISTRITO_ORIGEN\",\n",
    "    \"PAGO\",\n",
    "    \"LEE\",\n",
    "    \"ESCRIBE\",\n",
    "    \"HABLA\",\n",
    "    \"TIENE_DISCAPACIDAD\",\n",
    "    \"TIPO_COMUNIDAD\",\n",
    "    \"COMUNIDAD\",\n",
    "    \"ESCUELA_CODIFICADA\",\n",
    "    \"MODALIDAD_CODIFICADA\",\n",
    "    \"IDIOMA_CODIFICADO_IMPUTADO\",\n",
    "]\n",
    "\n",
    "# Normalizar los datos\n",
    "scaler = MinMaxScaler()\n",
    "df_normalized[numeric_columns] = scaler.fit_transform(df_normalized[numeric_columns])\n",
    "\n",
    "# Estandarizar los datos\n",
    "scaler = StandardScaler()\n",
    "df_standardized[numeric_columns] = scaler.fit_transform(\n",
    "    df_standardized[numeric_columns]\n",
    ")\n",
    "\n",
    "# Mostrar las primeras filas de los DataFrames normalizados y estandarizados\n",
    "print(\"DataFrame Normalizado:\")\n",
    "print(df_normalized.head())\n",
    "\n",
    "print(\"\\nDataFrame Estandarizado:\")\n",
    "print(df_standardized.head())"
   ]
  },
  {
   "cell_type": "code",
   "execution_count": null,
   "metadata": {},
   "outputs": [],
   "source": [
    "DfEstudiantes.describe()"
   ]
  },
  {
   "cell_type": "code",
   "execution_count": null,
   "metadata": {
    "tags": []
   },
   "outputs": [],
   "source": [
    "#DfEstudiantes['DEPARTAMENTO'].unique()\n",
    "#for i in DfEstudiantes:\n",
    "#    c = 1\n",
    "#    arr = DfEstudiantes[i].unique()\n",
    "#    newdf = DfEstudiantes[i][j]\n",
    "#   for j in arr:\n",
    "#        newdf[i][j] = c\n",
    "#       c += 1\n",
    "        \n",
    "# Supongamos que tienes un DataFrame DfEstudiantes con columnas\n",
    "\n",
    "# Crear un DataFrame vacío para almacenar los valores numerizados\n",
    "numerized_df = pd.DataFrame()\n",
    "\n",
    "# Iterar a través de las columnas del DataFrame original\n",
    "for column in DfEstudiantes.columns:\n",
    "    unique_values = DfEstudiantes[column].unique()\n",
    "    mapping = {value: index + 1 for index, value in enumerate(unique_values)}\n",
    "    numerized_column = DfEstudiantes[column].map(mapping)\n",
    "    numerized_df[column] = numerized_column\n",
    "\n",
    "print(numerized_df)"
   ]
  },
  {
   "cell_type": "code",
   "execution_count": null,
   "metadata": {},
   "outputs": [],
   "source": [
    "import numpy as np\n",
    "\n",
    "# Convertir el DataFrame a un array numpy\n",
    "array_estudiantes = numerized_df.values\n",
    "\n",
    "print(array_estudiantes)"
   ]
  },
  {
   "cell_type": "markdown",
   "metadata": {},
   "source": [
    "### Creamos la matriz de correlacion de estudiantes\n"
   ]
  },
  {
   "cell_type": "markdown",
   "metadata": {},
   "source": [
    "#### MaTRIZ DE CORRELACION UTILIZANDO LA DISTACIA COSENO\n"
   ]
  },
  {
   "cell_type": "code",
   "execution_count": null,
   "metadata": {},
   "outputs": [],
   "source": [
    "import numpy as np\n",
    "import pandas as pd\n",
    "import seaborn as sns\n",
    "import matplotlib.pyplot as plt\n",
    "\n",
    "# Supongamos que DfEstudiantes contiene solo las columnas numéricas (sin UUID)\n",
    "array_estudiantes = DfEstudiantes.drop(columns=[\"UUID\"]).values\n",
    "\n",
    "# Calcular la matriz de similitud (correlación) entre los postulantes utilizando la distancia coseno\n",
    "similarity_matrix = np.dot(array_estudiantes, array_estudiantes.T) / np.outer(\n",
    "    np.linalg.norm(array_estudiantes, axis=1), np.linalg.norm(array_estudiantes, axis=1)\n",
    ")\n",
    "\n",
    "# Crear un DataFrame para la matriz de similitud\n",
    "column_names = DfEstudiantes[\"UUID\"].tolist()\n",
    "similarity_df = pd.DataFrame(\n",
    "    similarity_matrix, columns=column_names, index=column_names\n",
    ")"
   ]
  },
  {
   "cell_type": "code",
   "execution_count": null,
   "metadata": {},
   "outputs": [],
   "source": [
    "similarity_df"
   ]
  },
  {
   "cell_type": "code",
   "execution_count": null,
   "metadata": {},
   "outputs": [],
   "source": [
    "# Obtener las primeras 5 filas y 5 columnas del conjunto de datos similarity_df\n",
    "primeros_5 = similarity_df.iloc[30:50, 30:50]\n",
    "\n",
    "# Mostrar la matriz de correlación en forma de mapa de calor\n",
    "plt.figure(figsize=(16, 12))\n",
    "sns.heatmap(primeros_5, annot=True, cmap=\"coolwarm\", fmt=\".5f\")\n",
    "plt.title(\"Matriz de Correlación de Similitud entre los Primeros 5 Postulantes\")\n",
    "plt.show()"
   ]
  },
  {
   "cell_type": "markdown",
   "metadata": {},
   "source": [
    "#### MATRIZ DE CORRELACION UTILIZANDO LA CORRELACION DE PEARSON\n"
   ]
  },
  {
   "cell_type": "code",
   "execution_count": null,
   "metadata": {},
   "outputs": [],
   "source": [
    "import pandas as pd\n",
    "import numpy as np\n",
    "\n",
    "# Supongamos que DfEstudiantes contiene solo las columnas numéricas (sin UUID)\n",
    "numeric_columns = DfEstudiantes.drop(columns=[\"UUID\"])\n",
    "\n",
    "# Calcular la matriz de correlación de Pearson entre las filas (postulantes)\n",
    "correlation_matrix = numeric_columns.T.corr(method=\"pearson\")\n",
    "\n",
    "# Obtener solo la parte triangular superior de la matriz de correlación\n",
    "upper_triangle = np.triu(correlation_matrix, k=1)\n",
    "\n",
    "# Visualizar la matriz de correlación de Pearson\n",
    "upper_triangle"
   ]
  },
  {
   "cell_type": "code",
   "execution_count": null,
   "metadata": {
    "tags": []
   },
   "outputs": [],
   "source": [
    "similarity_df = pd.DataFrame(\n",
    "    upper_triangle, columns=column_names, index=column_names\n",
    ")\n",
    "similarity_df"
   ]
  },
  {
   "cell_type": "code",
   "execution_count": null,
   "metadata": {
    "tags": []
   },
   "outputs": [],
   "source": [
    "similarity_df.iloc[1, 3]"
   ]
  },
  {
   "cell_type": "markdown",
   "metadata": {},
   "source": [
    "##  Muestra de la matriz de correlacion"
   ]
  },
  {
   "cell_type": "code",
   "execution_count": null,
   "metadata": {},
   "outputs": [],
   "source": [
    "import pandas as pd\n",
    "\n",
    "# Crear una muestra aleatoria de 5 filas y 5 columnas del DataFrame de correlación\n",
    "sampled_correlation_df = similarity_df.sample(n=1000, axis=0).sample(n=1000, axis=1)\n",
    "\n",
    "# Mostrar la muestra aleatoria\n",
    "print(sampled_correlation_df)"
   ]
  },
  {
   "cell_type": "code",
   "execution_count": null,
   "metadata": {
    "tags": []
   },
   "outputs": [],
   "source": [
    "import networkx as nx\n",
    "\n",
    "# Crear una instancia del grafo\n",
    "G = nx.Graph()\n",
    "similarity_df = sampled_correlation_df\n",
    "# Obtener los nombres de los postulantes (nodos)\n",
    "postulantes = similarity_df.columns.tolist()\n",
    "\n",
    "n=1000\n",
    "# Agregar nodos al grafo\n",
    "G.add_nodes_from(postulantes[:])\n",
    "\n",
    "th = 0.80\n",
    "\n",
    "# Crear un conjunto para rastrear las aristas ya agregadas\n",
    "added_edges = set()\n",
    "\n",
    "# Agregar aristas al grafo con los valores de similitud sin repeticiones\n",
    "for i in range(len(postulantes[:])):\n",
    "    for j in range(i + 1, len(postulantes[:])):\n",
    "        # Filtro con el Threshold\n",
    "        if abs(similarity_df.iloc[i, j]) >= th:\n",
    "            # Ordenar nodos para asegurarse de que estén en el mismo orden\n",
    "            nodes = tuple(sorted([postulantes[i], postulantes[j]]))\n",
    "            if nodes not in added_edges:\n",
    "                dist = 1 - similarity_df.iloc[i, j]\n",
    "                G.add_edge(*nodes, weight=dist)\n",
    "                added_edges.add(nodes)\n",
    "\n",
    "# Mostrar información básica sobre el grafo\n",
    "print(\"Número de nodos:\", G.number_of_nodes())\n",
    "print(\"Número de aristas:\", G.number_of_edges())\n"
   ]
  },
  {
   "cell_type": "code",
   "execution_count": null,
   "metadata": {
    "tags": []
   },
   "outputs": [],
   "source": [
    "# Eliminar aristas que son bucles\n",
    "self_loop_edges = list(nx.selfloop_edges(G))\n",
    "G.remove_edges_from(self_loop_edges)\n",
    "\n",
    "# Mostrar información básica sobre el grafo\n",
    "print(\"Número de nodos:\", G.number_of_nodes())\n",
    "print(\"Número de aristas:\", G.number_of_edges())\n"
   ]
  },
  {
   "cell_type": "code",
   "execution_count": null,
   "metadata": {
    "tags": []
   },
   "outputs": [],
   "source": [
    "import random\n",
    "\n",
    "# Convertir el NodeView a una lista\n",
    "node_list = list(G.nodes())\n",
    "\n",
    "# Realizar el muestreo del grafo\n",
    "sample_size = 300  # Número de nodos en la muestra\n",
    "sample = random.sample(node_list, sample_size)\n",
    "\n",
    "# Crear una submuestra del grafo original\n",
    "sampled_graph = G.subgraph(sample)\n",
    "\n",
    "# Mostrar información básica sobre la submuestra\n",
    "print(\"Número de nodos en la submuestra:\", sampled_graph.number_of_nodes())\n",
    "print(\"Número de aristas en la submuestra:\", sampled_graph.number_of_edges())\n"
   ]
  },
  {
   "cell_type": "code",
   "execution_count": null,
   "metadata": {
    "tags": []
   },
   "outputs": [],
   "source": [
    "import networkx as nx\n",
    "import matplotlib.pyplot as plt\n",
    "\n",
    "# Crear una disposición de nodos para la visualización\n",
    "pos = nx.spring_layout(G, seed=42)\n",
    "\n",
    "# Obtener los pesos de las aristas para ajustar el ancho de las aristas en la visualización\n",
    "edge_weights = [data['weight'] for _, _, data in G.edges(data=True)]\n",
    "\n",
    "# Crear el grafo utilizando la disposición de nodos y los pesos de las aristas\n",
    "nx.draw(G, pos, with_labels=True, node_size=100, node_color='skyblue', font_size=2, font_color='black',\n",
    "        width=edge_weights, edge_color='gray', font_weight='bold')\n",
    "# Ajustar el tamaño del gráfico\n",
    "# Mostrar el grafo\n",
    "plt.title(\"Grafo de Muestra de Similitud entre Postulantes\")\n",
    "plt.show()\n"
   ]
  },
  {
   "cell_type": "code",
   "execution_count": null,
   "metadata": {
    "tags": []
   },
   "outputs": [],
   "source": [
    "import networkx as nx\n",
    "import matplotlib.pyplot as plt\n",
    "\n",
    "# ... (código para construir el grafo G)\n",
    "\n",
    "plt.figure(figsize=(30, 30))\n",
    "spring_layout = nx.spring_layout(sampled_graph, seed=42)\n",
    "\n",
    "nx.draw_networkx_nodes(sampled_graph, spring_layout, node_color='r', edgecolors='k')\n",
    "nx.draw_networkx_edges(sampled_graph, spring_layout, alpha=0.7)\n",
    "\n",
    "plt.title('Graph with spring layout', fontdict={'fontsize': 40})\n",
    "plt.axis('off')\n",
    "plt.show()"
   ]
  },
  {
   "cell_type": "code",
   "execution_count": null,
   "metadata": {
    "tags": []
   },
   "outputs": [],
   "source": [
    "# Parámetros de visualización\n",
    "plt.figure(figsize=(10,10))\n",
    "pos = nx.spring_layout(sampled_graph)\n",
    "nx.draw_networkx_nodes(sampled_graph, pos, node_size=50)\n",
    "nx.draw_networkx_edges(sampled_graph, pos)\n",
    "nx.draw_networkx_labels(sampled_graph, pos)\n",
    "\n",
    "# Título y ejes\n",
    "plt.title('Red de Similitudes entre Postulantes')\n",
    "plt.axis('off')\n",
    "plt.show()"
   ]
  },
  {
   "cell_type": "code",
   "execution_count": null,
   "metadata": {
    "tags": []
   },
   "outputs": [],
   "source": [
    "import networkx as nx\n",
    "import pandas as pd\n",
    "import numpy as np\n",
    "import matplotlib.pyplot as plt\n",
    "import seaborn as sns\n",
    "\n",
    "from sklearn.decomposition import PCA\n",
    "from node2vec import Node2Vec as n2v\n",
    "sns.set()\n",
    "WINDOW = 1  # Node2Vec fit window\n",
    "MIN_COUNT = 1  # Node2Vec min. count\n",
    "BATCH_WORDS = 4  # Node2Vec batch words\n",
    "\n",
    "g_emb = n2v(\n",
    "    G,\n",
    "    dimensions=16\n",
    ")\n",
    "\n",
    "mdl = g_emb.fit(\n",
    "    vector_size=16,\n",
    "    window=WINDOW,\n",
    "    min_count=MIN_COUNT,\n",
    "    batch_words=BATCH_WORDS\n",
    ")"
   ]
  },
  {
   "cell_type": "code",
   "execution_count": null,
   "metadata": {
    "tags": []
   },
   "outputs": [],
   "source": [
    "emb_df = (\n",
    "    pd.DataFrame(\n",
    "        [mdl.wv.get_vector(str(n)) for n in G.nodes()],\n",
    "        index=G.nodes\n",
    "    )\n",
    ")"
   ]
  },
  {
   "cell_type": "code",
   "execution_count": null,
   "metadata": {
    "tags": []
   },
   "outputs": [],
   "source": [
    "\n",
    "pca = PCA(n_components=2, random_state=7)\n",
    "pca_mdl = pca.fit_transform(emb_df)\n",
    "\n",
    "emb_df_PCA = (\n",
    "    pd.DataFrame(\n",
    "        pca_mdl,\n",
    "        columns=['x', 'y'],\n",
    "        index=emb_df.index\n",
    "    )\n",
    ")\n",
    "plt.clf()\n",
    "fig = plt.figure(figsize=(6, 4))\n",
    "plt.scatter(\n",
    "    x=emb_df_PCA['x'],\n",
    "    y=emb_df_PCA['y'],\n",
    "    s=0.4,\n",
    "    color='maroon',\n",
    "    alpha=0.5\n",
    ")\n",
    "plt.xlabel('PCA-1')\n",
    "plt.ylabel('PCA-2')\n",
    "plt.title('PCA Visualization')\n",
    "plt.plot()\n"
   ]
  }
 ],
 "metadata": {
  "kernelspec": {
   "display_name": "Python 3 (ipykernel)",
   "language": "python",
   "name": "python3"
  },
  "language_info": {
   "codemirror_mode": {
    "name": "ipython",
    "version": 3
   },
   "file_extension": ".py",
   "mimetype": "text/x-python",
   "name": "python",
   "nbconvert_exporter": "python",
   "pygments_lexer": "ipython3",
   "version": "3.11.4"
  },
  "toc-autonumbering": true,
  "toc-showmarkdowntxt": false
 },
 "nbformat": 4,
 "nbformat_minor": 4
}
